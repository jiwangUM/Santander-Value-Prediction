{
 "cells": [
  {
   "cell_type": "code",
   "execution_count": 2,
   "metadata": {},
   "outputs": [
    {
     "name": "stdout",
     "output_type": "stream",
     "text": [
      "Training set:\n",
      "Number of Records: 4459\n",
      "Number of Features: 4993\n",
      "Total Train Features with NaN Values = 0\n",
      "Test set:\n",
      "Number of Records: 49342\n",
      "Number of Features: 4992\n",
      "CPU times: user 1min 25s, sys: 10.7 s, total: 1min 35s\n",
      "Wall time: 1min 39s\n"
     ]
    }
   ],
   "source": [
    "%%time\n",
    "import numpy as np\n",
    "import pandas as pd \n",
    "\n",
    "import matplotlib.pyplot as plt \n",
    "import seaborn as sns \n",
    "\n",
    "from sklearn import model_selection\n",
    "from sklearn.model_selection import train_test_split \n",
    "from sklearn.preprocessing import RobustScaler\n",
    "from sklearn.decomposition import PCA \n",
    "from mpl_toolkits.mplot3d import Axes3D\n",
    "from sklearn import metrics\n",
    "\n",
    "\n",
    "from sklearn.ensemble import GradientBoostingRegressor\n",
    "from sklearn.ensemble import RandomForestRegressor\n",
    "import lightgbm as lgb \n",
    "import xgboost as xgb \n",
    "from catboost import CatBoostRegressor \n",
    "\n",
    "from IPython.display import display\n",
    "\n",
    "import warnings\n",
    "warnings.filterwarnings('ignore')\n",
    "\n",
    "#Read train data file\n",
    "train_df = pd.read_csv('./train.csv')\n",
    "test_df = pd.read_csv('./test.csv')\n",
    "\n",
    "#Training set\n",
    "print(\"Training set:\")\n",
    "n_data = len(train_df)\n",
    "n_features = train_df.shape[1]\n",
    "print(\"Number of Records: {}\".format(n_data))\n",
    "print(\"Number of Features: {}\".format(n_features))\n",
    "\n",
    "#train_df.head(n=10)\n",
    "#train_df.info()\n",
    "\n",
    "#Check for Missing Data\n",
    "print(\"Total Train Features with NaN Values = \" + str(train_df.columns[train_df.isnull().sum() != 0].size) )\n",
    "\n",
    "if(train_df.columns[train_df.isnull().sum() != 0].size):\n",
    "\tprint(\"Features with NaN => {}\".format(list(train_df.columns[train_df.isnull().sum() != 0])))\n",
    "\n",
    "\n",
    "#Test set\n",
    "print(\"Test set:\")\n",
    "n_test = len(test_df)\n",
    "n_features = test_df.shape[1]\n",
    "print(\"Number of Records: {}\".format(n_test))\n",
    "print(\"Number of Features: {}\".format(n_features))"
   ]
  },
  {
   "cell_type": "code",
   "execution_count": 3,
   "metadata": {},
   "outputs": [
    {
     "data": {
      "text/html": [
       "<div>\n",
       "<style>\n",
       "    .dataframe thead tr:only-child th {\n",
       "        text-align: right;\n",
       "    }\n",
       "\n",
       "    .dataframe thead th {\n",
       "        text-align: left;\n",
       "    }\n",
       "\n",
       "    .dataframe tbody tr th {\n",
       "        vertical-align: top;\n",
       "    }\n",
       "</style>\n",
       "<table border=\"1\" class=\"dataframe\">\n",
       "  <thead>\n",
       "    <tr style=\"text-align: right;\">\n",
       "      <th></th>\n",
       "      <th>ID</th>\n",
       "      <th>target</th>\n",
       "      <th>48df886f9</th>\n",
       "      <th>0deb4b6a8</th>\n",
       "      <th>34b15f335</th>\n",
       "      <th>a8cb14b00</th>\n",
       "      <th>2f0771a37</th>\n",
       "      <th>30347e683</th>\n",
       "      <th>d08d1fbe3</th>\n",
       "      <th>6ee66e115</th>\n",
       "      <th>...</th>\n",
       "      <th>3ecc09859</th>\n",
       "      <th>9281abeea</th>\n",
       "      <th>8675bec0b</th>\n",
       "      <th>3a13ed79a</th>\n",
       "      <th>f677d4d13</th>\n",
       "      <th>71b203550</th>\n",
       "      <th>137efaa80</th>\n",
       "      <th>fb36b89d9</th>\n",
       "      <th>7e293fbaf</th>\n",
       "      <th>9fc776466</th>\n",
       "    </tr>\n",
       "  </thead>\n",
       "  <tbody>\n",
       "    <tr>\n",
       "      <th>0</th>\n",
       "      <td>000d6aaf2</td>\n",
       "      <td>38000000.0</td>\n",
       "      <td>0.0</td>\n",
       "      <td>0</td>\n",
       "      <td>0.0</td>\n",
       "      <td>0</td>\n",
       "      <td>0</td>\n",
       "      <td>0</td>\n",
       "      <td>0</td>\n",
       "      <td>0</td>\n",
       "      <td>...</td>\n",
       "      <td>0.0</td>\n",
       "      <td>0.0</td>\n",
       "      <td>0.0</td>\n",
       "      <td>0</td>\n",
       "      <td>0</td>\n",
       "      <td>0</td>\n",
       "      <td>0</td>\n",
       "      <td>0</td>\n",
       "      <td>0</td>\n",
       "      <td>0</td>\n",
       "    </tr>\n",
       "    <tr>\n",
       "      <th>1</th>\n",
       "      <td>000fbd867</td>\n",
       "      <td>600000.0</td>\n",
       "      <td>0.0</td>\n",
       "      <td>0</td>\n",
       "      <td>0.0</td>\n",
       "      <td>0</td>\n",
       "      <td>0</td>\n",
       "      <td>0</td>\n",
       "      <td>0</td>\n",
       "      <td>0</td>\n",
       "      <td>...</td>\n",
       "      <td>0.0</td>\n",
       "      <td>0.0</td>\n",
       "      <td>0.0</td>\n",
       "      <td>0</td>\n",
       "      <td>0</td>\n",
       "      <td>0</td>\n",
       "      <td>0</td>\n",
       "      <td>0</td>\n",
       "      <td>0</td>\n",
       "      <td>0</td>\n",
       "    </tr>\n",
       "    <tr>\n",
       "      <th>2</th>\n",
       "      <td>0027d6b71</td>\n",
       "      <td>10000000.0</td>\n",
       "      <td>0.0</td>\n",
       "      <td>0</td>\n",
       "      <td>0.0</td>\n",
       "      <td>0</td>\n",
       "      <td>0</td>\n",
       "      <td>0</td>\n",
       "      <td>0</td>\n",
       "      <td>0</td>\n",
       "      <td>...</td>\n",
       "      <td>0.0</td>\n",
       "      <td>0.0</td>\n",
       "      <td>0.0</td>\n",
       "      <td>0</td>\n",
       "      <td>0</td>\n",
       "      <td>0</td>\n",
       "      <td>0</td>\n",
       "      <td>0</td>\n",
       "      <td>0</td>\n",
       "      <td>0</td>\n",
       "    </tr>\n",
       "    <tr>\n",
       "      <th>3</th>\n",
       "      <td>0028cbf45</td>\n",
       "      <td>2000000.0</td>\n",
       "      <td>0.0</td>\n",
       "      <td>0</td>\n",
       "      <td>0.0</td>\n",
       "      <td>0</td>\n",
       "      <td>0</td>\n",
       "      <td>0</td>\n",
       "      <td>0</td>\n",
       "      <td>0</td>\n",
       "      <td>...</td>\n",
       "      <td>0.0</td>\n",
       "      <td>0.0</td>\n",
       "      <td>0.0</td>\n",
       "      <td>0</td>\n",
       "      <td>0</td>\n",
       "      <td>0</td>\n",
       "      <td>0</td>\n",
       "      <td>0</td>\n",
       "      <td>0</td>\n",
       "      <td>0</td>\n",
       "    </tr>\n",
       "    <tr>\n",
       "      <th>4</th>\n",
       "      <td>002a68644</td>\n",
       "      <td>14400000.0</td>\n",
       "      <td>0.0</td>\n",
       "      <td>0</td>\n",
       "      <td>0.0</td>\n",
       "      <td>0</td>\n",
       "      <td>0</td>\n",
       "      <td>0</td>\n",
       "      <td>0</td>\n",
       "      <td>0</td>\n",
       "      <td>...</td>\n",
       "      <td>0.0</td>\n",
       "      <td>0.0</td>\n",
       "      <td>0.0</td>\n",
       "      <td>0</td>\n",
       "      <td>0</td>\n",
       "      <td>0</td>\n",
       "      <td>0</td>\n",
       "      <td>0</td>\n",
       "      <td>0</td>\n",
       "      <td>0</td>\n",
       "    </tr>\n",
       "    <tr>\n",
       "      <th>5</th>\n",
       "      <td>002dbeb22</td>\n",
       "      <td>2800000.0</td>\n",
       "      <td>0.0</td>\n",
       "      <td>0</td>\n",
       "      <td>0.0</td>\n",
       "      <td>0</td>\n",
       "      <td>0</td>\n",
       "      <td>0</td>\n",
       "      <td>0</td>\n",
       "      <td>0</td>\n",
       "      <td>...</td>\n",
       "      <td>12000.0</td>\n",
       "      <td>5600000.0</td>\n",
       "      <td>20000000.0</td>\n",
       "      <td>0</td>\n",
       "      <td>0</td>\n",
       "      <td>0</td>\n",
       "      <td>0</td>\n",
       "      <td>0</td>\n",
       "      <td>0</td>\n",
       "      <td>11000</td>\n",
       "    </tr>\n",
       "    <tr>\n",
       "      <th>6</th>\n",
       "      <td>003925ac6</td>\n",
       "      <td>164000.0</td>\n",
       "      <td>0.0</td>\n",
       "      <td>0</td>\n",
       "      <td>0.0</td>\n",
       "      <td>0</td>\n",
       "      <td>0</td>\n",
       "      <td>0</td>\n",
       "      <td>0</td>\n",
       "      <td>0</td>\n",
       "      <td>...</td>\n",
       "      <td>0.0</td>\n",
       "      <td>0.0</td>\n",
       "      <td>0.0</td>\n",
       "      <td>0</td>\n",
       "      <td>0</td>\n",
       "      <td>0</td>\n",
       "      <td>40000</td>\n",
       "      <td>0</td>\n",
       "      <td>0</td>\n",
       "      <td>0</td>\n",
       "    </tr>\n",
       "    <tr>\n",
       "      <th>7</th>\n",
       "      <td>003eb0261</td>\n",
       "      <td>600000.0</td>\n",
       "      <td>0.0</td>\n",
       "      <td>0</td>\n",
       "      <td>0.0</td>\n",
       "      <td>0</td>\n",
       "      <td>0</td>\n",
       "      <td>0</td>\n",
       "      <td>0</td>\n",
       "      <td>0</td>\n",
       "      <td>...</td>\n",
       "      <td>0.0</td>\n",
       "      <td>0.0</td>\n",
       "      <td>0.0</td>\n",
       "      <td>0</td>\n",
       "      <td>0</td>\n",
       "      <td>0</td>\n",
       "      <td>0</td>\n",
       "      <td>0</td>\n",
       "      <td>0</td>\n",
       "      <td>0</td>\n",
       "    </tr>\n",
       "    <tr>\n",
       "      <th>8</th>\n",
       "      <td>004b92275</td>\n",
       "      <td>979000.0</td>\n",
       "      <td>0.0</td>\n",
       "      <td>0</td>\n",
       "      <td>0.0</td>\n",
       "      <td>0</td>\n",
       "      <td>0</td>\n",
       "      <td>0</td>\n",
       "      <td>0</td>\n",
       "      <td>0</td>\n",
       "      <td>...</td>\n",
       "      <td>0.0</td>\n",
       "      <td>0.0</td>\n",
       "      <td>4000000.0</td>\n",
       "      <td>0</td>\n",
       "      <td>0</td>\n",
       "      <td>0</td>\n",
       "      <td>0</td>\n",
       "      <td>0</td>\n",
       "      <td>0</td>\n",
       "      <td>0</td>\n",
       "    </tr>\n",
       "    <tr>\n",
       "      <th>9</th>\n",
       "      <td>0067b4fef</td>\n",
       "      <td>460000.0</td>\n",
       "      <td>0.0</td>\n",
       "      <td>0</td>\n",
       "      <td>0.0</td>\n",
       "      <td>0</td>\n",
       "      <td>0</td>\n",
       "      <td>0</td>\n",
       "      <td>0</td>\n",
       "      <td>0</td>\n",
       "      <td>...</td>\n",
       "      <td>0.0</td>\n",
       "      <td>0.0</td>\n",
       "      <td>0.0</td>\n",
       "      <td>0</td>\n",
       "      <td>0</td>\n",
       "      <td>0</td>\n",
       "      <td>0</td>\n",
       "      <td>0</td>\n",
       "      <td>0</td>\n",
       "      <td>400000</td>\n",
       "    </tr>\n",
       "  </tbody>\n",
       "</table>\n",
       "<p>10 rows × 4993 columns</p>\n",
       "</div>"
      ],
      "text/plain": [
       "          ID      target  48df886f9  0deb4b6a8  34b15f335  a8cb14b00  \\\n",
       "0  000d6aaf2  38000000.0        0.0          0        0.0          0   \n",
       "1  000fbd867    600000.0        0.0          0        0.0          0   \n",
       "2  0027d6b71  10000000.0        0.0          0        0.0          0   \n",
       "3  0028cbf45   2000000.0        0.0          0        0.0          0   \n",
       "4  002a68644  14400000.0        0.0          0        0.0          0   \n",
       "5  002dbeb22   2800000.0        0.0          0        0.0          0   \n",
       "6  003925ac6    164000.0        0.0          0        0.0          0   \n",
       "7  003eb0261    600000.0        0.0          0        0.0          0   \n",
       "8  004b92275    979000.0        0.0          0        0.0          0   \n",
       "9  0067b4fef    460000.0        0.0          0        0.0          0   \n",
       "\n",
       "   2f0771a37  30347e683  d08d1fbe3  6ee66e115    ...      3ecc09859  \\\n",
       "0          0          0          0          0    ...            0.0   \n",
       "1          0          0          0          0    ...            0.0   \n",
       "2          0          0          0          0    ...            0.0   \n",
       "3          0          0          0          0    ...            0.0   \n",
       "4          0          0          0          0    ...            0.0   \n",
       "5          0          0          0          0    ...        12000.0   \n",
       "6          0          0          0          0    ...            0.0   \n",
       "7          0          0          0          0    ...            0.0   \n",
       "8          0          0          0          0    ...            0.0   \n",
       "9          0          0          0          0    ...            0.0   \n",
       "\n",
       "   9281abeea   8675bec0b  3a13ed79a  f677d4d13  71b203550  137efaa80  \\\n",
       "0        0.0         0.0          0          0          0          0   \n",
       "1        0.0         0.0          0          0          0          0   \n",
       "2        0.0         0.0          0          0          0          0   \n",
       "3        0.0         0.0          0          0          0          0   \n",
       "4        0.0         0.0          0          0          0          0   \n",
       "5  5600000.0  20000000.0          0          0          0          0   \n",
       "6        0.0         0.0          0          0          0      40000   \n",
       "7        0.0         0.0          0          0          0          0   \n",
       "8        0.0   4000000.0          0          0          0          0   \n",
       "9        0.0         0.0          0          0          0          0   \n",
       "\n",
       "   fb36b89d9  7e293fbaf  9fc776466  \n",
       "0          0          0          0  \n",
       "1          0          0          0  \n",
       "2          0          0          0  \n",
       "3          0          0          0  \n",
       "4          0          0          0  \n",
       "5          0          0      11000  \n",
       "6          0          0          0  \n",
       "7          0          0          0  \n",
       "8          0          0          0  \n",
       "9          0          0     400000  \n",
       "\n",
       "[10 rows x 4993 columns]"
      ]
     },
     "execution_count": 3,
     "metadata": {},
     "output_type": "execute_result"
    }
   ],
   "source": [
    "train_df.head(n=10)"
   ]
  },
  {
   "cell_type": "code",
   "execution_count": 5,
   "metadata": {},
   "outputs": [
    {
     "data": {
      "text/html": [
       "<div>\n",
       "<style>\n",
       "    .dataframe thead tr:only-child th {\n",
       "        text-align: right;\n",
       "    }\n",
       "\n",
       "    .dataframe thead th {\n",
       "        text-align: left;\n",
       "    }\n",
       "\n",
       "    .dataframe tbody tr th {\n",
       "        vertical-align: top;\n",
       "    }\n",
       "</style>\n",
       "<table border=\"1\" class=\"dataframe\">\n",
       "  <thead>\n",
       "    <tr style=\"text-align: right;\">\n",
       "      <th></th>\n",
       "      <th>ID</th>\n",
       "      <th>48df886f9</th>\n",
       "      <th>0deb4b6a8</th>\n",
       "      <th>34b15f335</th>\n",
       "      <th>a8cb14b00</th>\n",
       "      <th>2f0771a37</th>\n",
       "      <th>30347e683</th>\n",
       "      <th>d08d1fbe3</th>\n",
       "      <th>6ee66e115</th>\n",
       "      <th>20aa07010</th>\n",
       "      <th>...</th>\n",
       "      <th>3ecc09859</th>\n",
       "      <th>9281abeea</th>\n",
       "      <th>8675bec0b</th>\n",
       "      <th>3a13ed79a</th>\n",
       "      <th>f677d4d13</th>\n",
       "      <th>71b203550</th>\n",
       "      <th>137efaa80</th>\n",
       "      <th>fb36b89d9</th>\n",
       "      <th>7e293fbaf</th>\n",
       "      <th>9fc776466</th>\n",
       "    </tr>\n",
       "  </thead>\n",
       "  <tbody>\n",
       "    <tr>\n",
       "      <th>0</th>\n",
       "      <td>000137c73</td>\n",
       "      <td>0.0</td>\n",
       "      <td>0.0</td>\n",
       "      <td>0.0</td>\n",
       "      <td>0.0</td>\n",
       "      <td>0.0</td>\n",
       "      <td>0.0</td>\n",
       "      <td>0.0</td>\n",
       "      <td>0.0</td>\n",
       "      <td>0.0</td>\n",
       "      <td>...</td>\n",
       "      <td>0.0</td>\n",
       "      <td>0.0</td>\n",
       "      <td>0.0</td>\n",
       "      <td>0.0</td>\n",
       "      <td>0.0</td>\n",
       "      <td>0.0</td>\n",
       "      <td>0.0</td>\n",
       "      <td>0.0</td>\n",
       "      <td>0.0</td>\n",
       "      <td>0.0</td>\n",
       "    </tr>\n",
       "    <tr>\n",
       "      <th>1</th>\n",
       "      <td>00021489f</td>\n",
       "      <td>0.0</td>\n",
       "      <td>0.0</td>\n",
       "      <td>0.0</td>\n",
       "      <td>0.0</td>\n",
       "      <td>0.0</td>\n",
       "      <td>0.0</td>\n",
       "      <td>0.0</td>\n",
       "      <td>0.0</td>\n",
       "      <td>0.0</td>\n",
       "      <td>...</td>\n",
       "      <td>0.0</td>\n",
       "      <td>0.0</td>\n",
       "      <td>0.0</td>\n",
       "      <td>0.0</td>\n",
       "      <td>0.0</td>\n",
       "      <td>0.0</td>\n",
       "      <td>0.0</td>\n",
       "      <td>0.0</td>\n",
       "      <td>0.0</td>\n",
       "      <td>0.0</td>\n",
       "    </tr>\n",
       "    <tr>\n",
       "      <th>2</th>\n",
       "      <td>0004d7953</td>\n",
       "      <td>0.0</td>\n",
       "      <td>0.0</td>\n",
       "      <td>0.0</td>\n",
       "      <td>0.0</td>\n",
       "      <td>0.0</td>\n",
       "      <td>0.0</td>\n",
       "      <td>0.0</td>\n",
       "      <td>0.0</td>\n",
       "      <td>0.0</td>\n",
       "      <td>...</td>\n",
       "      <td>0.0</td>\n",
       "      <td>0.0</td>\n",
       "      <td>0.0</td>\n",
       "      <td>0.0</td>\n",
       "      <td>0.0</td>\n",
       "      <td>0.0</td>\n",
       "      <td>0.0</td>\n",
       "      <td>0.0</td>\n",
       "      <td>0.0</td>\n",
       "      <td>0.0</td>\n",
       "    </tr>\n",
       "    <tr>\n",
       "      <th>3</th>\n",
       "      <td>00056a333</td>\n",
       "      <td>0.0</td>\n",
       "      <td>0.0</td>\n",
       "      <td>0.0</td>\n",
       "      <td>0.0</td>\n",
       "      <td>0.0</td>\n",
       "      <td>0.0</td>\n",
       "      <td>0.0</td>\n",
       "      <td>0.0</td>\n",
       "      <td>0.0</td>\n",
       "      <td>...</td>\n",
       "      <td>0.0</td>\n",
       "      <td>0.0</td>\n",
       "      <td>0.0</td>\n",
       "      <td>0.0</td>\n",
       "      <td>0.0</td>\n",
       "      <td>0.0</td>\n",
       "      <td>0.0</td>\n",
       "      <td>0.0</td>\n",
       "      <td>0.0</td>\n",
       "      <td>0.0</td>\n",
       "    </tr>\n",
       "    <tr>\n",
       "      <th>4</th>\n",
       "      <td>00056d8eb</td>\n",
       "      <td>0.0</td>\n",
       "      <td>0.0</td>\n",
       "      <td>0.0</td>\n",
       "      <td>0.0</td>\n",
       "      <td>0.0</td>\n",
       "      <td>0.0</td>\n",
       "      <td>0.0</td>\n",
       "      <td>0.0</td>\n",
       "      <td>0.0</td>\n",
       "      <td>...</td>\n",
       "      <td>0.0</td>\n",
       "      <td>0.0</td>\n",
       "      <td>0.0</td>\n",
       "      <td>0.0</td>\n",
       "      <td>0.0</td>\n",
       "      <td>0.0</td>\n",
       "      <td>0.0</td>\n",
       "      <td>0.0</td>\n",
       "      <td>0.0</td>\n",
       "      <td>0.0</td>\n",
       "    </tr>\n",
       "  </tbody>\n",
       "</table>\n",
       "<p>5 rows × 4992 columns</p>\n",
       "</div>"
      ],
      "text/plain": [
       "          ID  48df886f9  0deb4b6a8  34b15f335  a8cb14b00  2f0771a37  \\\n",
       "0  000137c73        0.0        0.0        0.0        0.0        0.0   \n",
       "1  00021489f        0.0        0.0        0.0        0.0        0.0   \n",
       "2  0004d7953        0.0        0.0        0.0        0.0        0.0   \n",
       "3  00056a333        0.0        0.0        0.0        0.0        0.0   \n",
       "4  00056d8eb        0.0        0.0        0.0        0.0        0.0   \n",
       "\n",
       "   30347e683  d08d1fbe3  6ee66e115  20aa07010    ...      3ecc09859  \\\n",
       "0        0.0        0.0        0.0        0.0    ...            0.0   \n",
       "1        0.0        0.0        0.0        0.0    ...            0.0   \n",
       "2        0.0        0.0        0.0        0.0    ...            0.0   \n",
       "3        0.0        0.0        0.0        0.0    ...            0.0   \n",
       "4        0.0        0.0        0.0        0.0    ...            0.0   \n",
       "\n",
       "   9281abeea  8675bec0b  3a13ed79a  f677d4d13  71b203550  137efaa80  \\\n",
       "0        0.0        0.0        0.0        0.0        0.0        0.0   \n",
       "1        0.0        0.0        0.0        0.0        0.0        0.0   \n",
       "2        0.0        0.0        0.0        0.0        0.0        0.0   \n",
       "3        0.0        0.0        0.0        0.0        0.0        0.0   \n",
       "4        0.0        0.0        0.0        0.0        0.0        0.0   \n",
       "\n",
       "   fb36b89d9  7e293fbaf  9fc776466  \n",
       "0        0.0        0.0        0.0  \n",
       "1        0.0        0.0        0.0  \n",
       "2        0.0        0.0        0.0  \n",
       "3        0.0        0.0        0.0  \n",
       "4        0.0        0.0        0.0  \n",
       "\n",
       "[5 rows x 4992 columns]"
      ]
     },
     "execution_count": 5,
     "metadata": {},
     "output_type": "execute_result"
    }
   ],
   "source": [
    "test_df.head()"
   ]
  },
  {
   "cell_type": "markdown",
   "metadata": {},
   "source": [
    "# 1. Prepare Data\n",
    "\n",
    "## 1.1 Check and Remove Constant Features"
   ]
  },
  {
   "cell_type": "code",
   "execution_count": 3,
   "metadata": {},
   "outputs": [
    {
     "name": "stdout",
     "output_type": "stream",
     "text": [
      "Remove '256' Constant Columns\n",
      "\n",
      "['d5308d8bc', 'c330f1a67', 'eeac16933', '7df8788e8', '5b91580ee', '6f29fbbc7', '46dafc868', 'ae41a98b6', 'f416800e9', '6d07828ca', '7ac332a1d', '70ee7950a', '833b35a7c', '2f9969eab', '8b1372217', '68322788b', '2288ac1a6', 'dc7f76962', '467044c26', '39ebfbfd9', '9a5ff8c23', 'f6fac27c8', '664e2800e', 'ae28689a2', 'd87dcac58', '4065efbb6', 'f944d9d43', 'c2c4491d5', 'a4346e2e2', '1af366d4f', 'cfff5b7c8', 'da215e99e', '5acd26139', '9be9c6cef', '1210d0271', '21b0a54cb', 'da35e792b', '754c502dd', '0b346adbd', '0f196b049', 'b603ed95d', '2a50e001c', '1e81432e7', '10350ea43', '3c7c7e24c', '7585fce2a', '64d036163', 'f25d9935c', 'd98484125', '95c85e227', '9a5273600', '746cdb817', '6377a6293', '7d944fb0c', '87eb21c50', '5ea313a8c', '0987a65a1', '2fb7c2443', 'f5dde409b', '1ae50d4c3', '2b21cd7d8', '0db8a9272', '804d8b55b', '76f135fa6', '7d7182143', 'f88e61ae6', '378ed28e0', 'ca4ba131e', '1352ddae5', '2b601ad67', '6e42ff7c7', '22196a84c', '0e410eb3d', '992e6d1d3', '90a742107', '08b9ec4ae', 'd95203ded', '58ad51def', '9f69ae59f', '863de8a31', 'be10df47c', 'f006d9618', 'a7e39d23d', '5ed0abe85', '6c578fe94', '7fa4fcee9', '5e0571f07', 'fd5659511', 'e06b9f40f', 'c506599c8', '99de8c2dc', 'b05f4b229', '5e0834175', 'eb1cc0d9c', 'b281a62b9', '00fcf67e4', 'e37b65992', '2308e2b29', 'c342e8709', '708471ebf', 'f614aac15', '15ecf7b68', '3bfe540f1', '7a0d98f3c', 'e642315a5', 'c16d456a7', '0c9b5bcfa', 'b778ab129', '2ace87cdd', '697a566f0', '97b1f84fc', '34eff114b', '5281333d7', 'c89f3ba7e', 'cd6d3c7e6', 'fc7c8f2e8', 'abbbf9f82', '24a233e8f', '8e26b560e', 'a28ac1049', '504502ce1', 'd9a8615f3', '4efd6d283', '34cc56e83', '93e98252a', '2b6cef19e', 'c7f70a49b', '0d29ab7eb', 'e4a0d39b7', 'a4d1a8409', 'bc694fc8f', '3a36fc3a2', '4ffba44d3', '9bfdec4bc', '66a866d2f', 'f941e9df7', 'e7af4dbf3', 'dc9a54a3e', '748168a04', 'bba8ce4bb', 'ff6f62aa4', 'b06fe66ba', 'ae87ebc42', 'f26589e57', '963bb53b1', 'a531a4bf0', '9fc79985d', '9350d55c1', 'de06e884c', 'fc10bdf18', 'e0907e883', 'c586d79a1', 'e15e1513d', 'a06067897', '643e42fcb', '217cd3838', '047ebc242', '9b6ce40cf', '3b2c972b3', '17a7bf25a', 'c9028d46b', '9e0473c91', '6b041d374', '783c50218', '19122191d', 'ce573744f', '1c4ea481e', 'fbd6e0a0b', '69831c049', 'b87e3036b', '54ba515ee', 'a09ba0b15', '90f77ec55', 'fb02ef0ea', '3b0cccd29', 'fe9ed417c', '589e8bd6f', '17b5a03fd', '80e16b49a', 'a3d5c2c2a', '1bd3a4e92', '611d81daa', '3d7780b1c', '113fd0206', '5e5894826', 'cb36204f9', 'bc4e3d600', 'c66e2deb0', 'c25851298', 'a7f6de992', '3f93a3272', 'c1b95c2ec', '6bda21fee', '4a64e56e7', '943743753', '20854f8bf', 'ac2e428a9', '5ee7de0be', '316423a21', '2e52b0c6a', '8bdf6bc7e', '8f523faf2', '4758340d5', '8411096ec', '9678b95b7', 'a185e35cc', 'fa980a778', 'c8d90f7d7', '080540c81', '32591c8b4', '5779da33c', 'bb425b41e', '01599af81', '1654ab770', 'd334a588e', 'b4353599c', '51b53eaec', '2cc0fbc52', '45ffef194', 'c15ac04ee', '5b055c8ea', 'd0466eb58', 'a80633823', 'a117a5409', '7ddac276f', '8c32df8b3', 'e5649663e', '6c16efbb8', '9118fd5ca', 'ca8d565f1', '16a5bb8d2', 'fd6347461', 'f5179fb9c', '97428b646', 'f684b0a96', 'e4b2caa9f', '2c2d9f267', '96eb14eaf', 'cb2cb460c', '86f843927', 'ecd16fc60', '801c6dc8e', 'f859a25b8', 'ae846f332', '2252c7403', 'fb9e07326', 'd196ca1fd', 'a8e562e8e', 'eb6bb7ce1', '5beff147e', '52b347cdc', '4600aadcf', '6fa0b9dab', '43d70cc4d', '408021ef8', 'e29d22b59']\n",
      "Training set:\n",
      "Number of Records: 4459\n",
      "Number of Features: 4735\n",
      "CPU times: user 3.82 s, sys: 6.06 s, total: 9.88 s\n",
      "Wall time: 13.3 s\n"
     ]
    }
   ],
   "source": [
    "%%time\n",
    "X_train = train_df.drop([\"ID\", \"target\"], axis=1)\n",
    "y_train = train_df[\"target\"].values\n",
    "X_test = test_df.drop([\"ID\"], axis=1)\n",
    "\n",
    "colsToRemove = []\n",
    "for col in X_train.columns:\n",
    "    if X_train[col].std() == 0:\n",
    "        colsToRemove.append(col)\n",
    "\n",
    "X_train.drop(colsToRemove, axis=1, inplace=True)\n",
    "X_test.drop(colsToRemove, axis=1, inplace=True)\n",
    "\n",
    "print(\"Remove '{}' Constant Columns\\n\".format(len(colsToRemove)))\n",
    "print(colsToRemove)\n",
    "\n",
    "\n",
    "print(\"Training set:\")\n",
    "n_data = len(X_train)\n",
    "n_features = X_train.shape[1]\n",
    "print(\"Number of Records: {}\".format(n_data))\n",
    "print(\"Number of Features: {}\".format(n_features))"
   ]
  },
  {
   "cell_type": "markdown",
   "metadata": {},
   "source": [
    "## 1.2 Split Dev/Val Set"
   ]
  },
  {
   "cell_type": "code",
   "execution_count": 4,
   "metadata": {},
   "outputs": [],
   "source": [
    "X_dev, X_val, y_dev, y_val = train_test_split(X_train, y_train, test_size = 0.2, random_state = 42)"
   ]
  },
  {
   "cell_type": "markdown",
   "metadata": {},
   "source": [
    "## 1.3 Check and Remove duplicate Columns"
   ]
  },
  {
   "cell_type": "code",
   "execution_count": 19,
   "metadata": {},
   "outputs": [
    {
     "name": "stdout",
     "output_type": "stream",
     "text": [
      "Remove '4' Duplicate Columns\n",
      "\n",
      "{'34ceb0081': ['d60ddde1b'], '8d57e2749': ['acc5b709d', 'f333a5f60'], '168b3e5bc': ['f8d75792f'], 'a765da8bc': ['912836770']}\n"
     ]
    }
   ],
   "source": [
    "'''\n",
    "colsToRemove = []\n",
    "dupList = {}\n",
    "\n",
    "columns = X_train.columns\n",
    "\n",
    "for i in range(len(columns)-1):\n",
    "    if columns[i] not in colsToRemove:\n",
    "        v = X_train[columns[i]].values\n",
    "        dupCols = []\n",
    "        for j in range(i+1, len(columns)):\n",
    "            if np.array_equal(v, X_train[columns[j]].values):\n",
    "                colsToRemove.append(columns[j])\n",
    "                dupCols.append(columns[j])\n",
    "                dupList[columns[i]] = dupCols\n",
    "    \n",
    "X_train.drop(colsToRemove, axis=1, inplace=True)\n",
    "\n",
    "print(\"Remove '{}' Duplicate Columns\\n\".format(len(colsToRemove)))\n",
    "print(dupList)\n",
    "'''"
   ]
  },
  {
   "cell_type": "markdown",
   "metadata": {},
   "source": [
    "## 1.4 Stardardize features"
   ]
  },
  {
   "cell_type": "code",
   "execution_count": 27,
   "metadata": {},
   "outputs": [
    {
     "name": "stdout",
     "output_type": "stream",
     "text": [
      "CPU times: user 5.03 s, sys: 8.77 s, total: 13.8 s\n",
      "Wall time: 12 s\n"
     ]
    }
   ],
   "source": [
    "%%time\n",
    "from sklearn.preprocessing import StandardScaler\n",
    "#X_train_scaled = StandardScaler().fit_transform(X_train)\n",
    "sc_X = StandardScaler()\n",
    "X_dev_scaled = sc_X.fit_transform(X_dev)\n",
    "X_val_scaled = sc_X.transform(X_val)\n",
    "X_test_scaled = sc_X.transform(X_test)\n",
    "\n",
    "\n",
    "sc_y = StandardScaler() \n",
    "y_dev_scaled = sc_y.fit_transform(y_dev.reshape((len(y_dev), 1)))\n",
    "\n",
    "y_dev_log1p = np.log1p(y_dev)\n",
    "y_val_log1p = np.log1p(y_val)"
   ]
  },
  {
   "cell_type": "markdown",
   "metadata": {},
   "source": [
    "# 2. Dimension Reduciton\n",
    "\n",
    "## 2.1 PCA"
   ]
  },
  {
   "cell_type": "code",
   "execution_count": 56,
   "metadata": {
    "scrolled": true
   },
   "outputs": [
    {
     "name": "stdout",
     "output_type": "stream",
     "text": [
      "994 componets explain 95% of the variation in data\n"
     ]
    }
   ],
   "source": [
    "pca_x = PCA(0.85).fit(X_train_scaled)\n",
    "print(\"{} componets explain 95% of the variation in data\".format(pca_x.n_components_))"
   ]
  },
  {
   "cell_type": "code",
   "execution_count": 57,
   "metadata": {
    "collapsed": true
   },
   "outputs": [],
   "source": [
    "pca = PCA(n_components=pca_x.n_components_)\n",
    "pca.fit(X_train_scaled)\n",
    "X_train_pca = pca.transform(X_train_scaled)"
   ]
  },
  {
   "cell_type": "markdown",
   "metadata": {},
   "source": [
    "## 2.2 TSVD\n",
    "\n",
    "It is said TSVD doesn't need to performed on standardised data. Why?"
   ]
  },
  {
   "cell_type": "code",
   "execution_count": 36,
   "metadata": {},
   "outputs": [
    {
     "name": "stdout",
     "output_type": "stream",
     "text": [
      "601\n"
     ]
    }
   ],
   "source": [
    "from sklearn.decomposition import TruncatedSVD\n",
    "\n",
    "#randomly pick n_components as 1500 and later find out those components which attribute for 95% of variation in the data\n",
    "svd_x = TruncatedSVD(n_components=1500, n_iter=20, random_state=42)\n",
    "svd_x.fit(X_train)\n",
    "\n",
    "#find out those components which attribute for 95% of variance in data\n",
    "count = 0\n",
    "for index, cumsum in enumerate(np.cumsum(svd_x.explained_variance_ratio_)):\n",
    "    if cumsum <= 0.95:\n",
    "        count+=1\n",
    "    else:\n",
    "        break\n",
    "        \n",
    "print(count)\n",
    "\n",
    "#for index, cumsum in enumerate(np.cumsum(svd_x.explained_variance_ratio_)):\n",
    "#    print(index, cumsum)"
   ]
  },
  {
   "cell_type": "code",
   "execution_count": 53,
   "metadata": {
    "collapsed": true
   },
   "outputs": [],
   "source": [
    "#svd = TruncatedSVD(n_components=count, random_state=42)\n",
    "svd = TruncatedSVD(n_components=500, random_state=42)\n",
    "svd.fit(X_train)\n",
    "X_train_svd = svd.transform(X_train)"
   ]
  },
  {
   "cell_type": "markdown",
   "metadata": {},
   "source": [
    "# 3. Model Selection\n",
    "\n",
    "## 3.1 RandomForestRegressor\n",
    "\n",
    "### 3.1.1 Try on Sandaridized Data"
   ]
  },
  {
   "cell_type": "code",
   "execution_count": 25,
   "metadata": {},
   "outputs": [
    {
     "name": "stdout",
     "output_type": "stream",
     "text": [
      "RandomForestRegressor(bootstrap=True, criterion='mse', max_depth=None,\n",
      "           max_features='auto', max_leaf_nodes=None,\n",
      "           min_impurity_decrease=0.0, min_impurity_split=None,\n",
      "           min_samples_leaf=1, min_samples_split=2,\n",
      "           min_weight_fraction_leaf=0.0, n_estimators=10, n_jobs=1,\n",
      "           oob_score=False, random_state=42, verbose=0, warm_start=False)\n"
     ]
    }
   ],
   "source": [
    "\n",
    "model_rf = RandomForestRegressor(random_state = 42)\n",
    "model_rf.fit(X_dev, y_dev)\n",
    "print(model_rf)"
   ]
  },
  {
   "cell_type": "code",
   "execution_count": 30,
   "metadata": {},
   "outputs": [
    {
     "name": "stdout",
     "output_type": "stream",
     "text": [
      "R2 score is 0.19790930023910536\n",
      "Explained Variance is 0.20134266727983696\n"
     ]
    }
   ],
   "source": [
    "y_pred = model_rf.predict(X_val)\n",
    "print(\"R2 score is {}\".format(metrics.r2_score(y_val, y_pred)))\n",
    "print(\"Explained Variance is {}\".format(metrics.explained_variance_score(y_val, y_pred)))"
   ]
  },
  {
   "cell_type": "markdown",
   "metadata": {},
   "source": [
    "### 3.1.2 Try on PCA Data"
   ]
  },
  {
   "cell_type": "code",
   "execution_count": 58,
   "metadata": {
    "scrolled": true
   },
   "outputs": [
    {
     "name": "stdout",
     "output_type": "stream",
     "text": [
      "RandomForestRegressor(bootstrap=True, criterion='mse', max_depth=None,\n",
      "           max_features='auto', max_leaf_nodes=None,\n",
      "           min_impurity_decrease=0.0, min_impurity_split=None,\n",
      "           min_samples_leaf=1, min_samples_split=2,\n",
      "           min_weight_fraction_leaf=0.0, n_estimators=10, n_jobs=1,\n",
      "           oob_score=False, random_state=42, verbose=0, warm_start=False)\n"
     ]
    }
   ],
   "source": [
    "X_dev_pca, X_val_pca, y_dev_pca, y_val_pca = train_test_split(X_train_pca, y_train, test_size = 0.2, random_state = 42)\n",
    "model_rf_pca = RandomForestRegressor(random_state = 42) \n",
    "model_rf_pca.fit(X_dev_pca, y_dev_pca)\n",
    "print(model_rf_pca)"
   ]
  },
  {
   "cell_type": "code",
   "execution_count": 59,
   "metadata": {},
   "outputs": [
    {
     "name": "stdout",
     "output_type": "stream",
     "text": [
      "R2 score is 0.11942628834214941\n",
      "Explained Variance is 0.12083605623580707\n"
     ]
    }
   ],
   "source": [
    "y_pred_pca = model_rf_pca.predict(X_val_pca)\n",
    "print(\"R2 score is {}\".format(metrics.r2_score(y_val_pca, y_pred_pca)))\n",
    "print(\"Explained Variance is {}\".format(metrics.explained_variance_score(y_val_pca, y_pred_pca)))"
   ]
  },
  {
   "cell_type": "markdown",
   "metadata": {},
   "source": [
    "### 3.1.3 Try on TSVD Data"
   ]
  },
  {
   "cell_type": "code",
   "execution_count": 54,
   "metadata": {},
   "outputs": [
    {
     "name": "stdout",
     "output_type": "stream",
     "text": [
      "RandomForestRegressor(bootstrap=True, criterion='mse', max_depth=None,\n",
      "           max_features='auto', max_leaf_nodes=None,\n",
      "           min_impurity_decrease=0.0, min_impurity_split=None,\n",
      "           min_samples_leaf=1, min_samples_split=2,\n",
      "           min_weight_fraction_leaf=0.0, n_estimators=10, n_jobs=1,\n",
      "           oob_score=False, random_state=42, verbose=0, warm_start=False)\n"
     ]
    }
   ],
   "source": [
    "X_dev_svd, X_val_svd, y_dev_svd, y_val_svd = train_test_split(X_train_svd, y_train, test_size = 0.2, random_state = 42)\n",
    "model_rf_svd = RandomForestRegressor(random_state = 42) \n",
    "model_rf_svd.fit(X_dev_svd, y_dev_svd)\n",
    "print(model_rf_svd)"
   ]
  },
  {
   "cell_type": "code",
   "execution_count": 55,
   "metadata": {},
   "outputs": [
    {
     "name": "stdout",
     "output_type": "stream",
     "text": [
      "R2 score is 0.13377217032882027\n",
      "Explained Variance is 0.13855342419530314\n"
     ]
    }
   ],
   "source": [
    "y_pred_svd = model_rf_svd.predict(X_val_svd)\n",
    "print(\"R2 score is {}\".format(metrics.r2_score(y_val_svd, y_pred_svd)))\n",
    "print(\"Explained Variance is {}\".format(metrics.explained_variance_score(y_val_svd, y_pred_svd)))"
   ]
  },
  {
   "cell_type": "markdown",
   "metadata": {
    "collapsed": true
   },
   "source": [
    "## 3.2 CatBoost"
   ]
  },
  {
   "cell_type": "code",
   "execution_count": 28,
   "metadata": {},
   "outputs": [
    {
     "name": "stdout",
     "output_type": "stream",
     "text": [
      "0:\tlearn: 13.8849206\ttest: 13.8784128\tbest: 13.8784128 (0)\ttotal: 5.05s\tremaining: 42m\n",
      "50:\tlearn: 2.0342737\ttest: 2.0171864\tbest: 2.0171864 (50)\ttotal: 5m 11s\tremaining: 45m 45s\n",
      "100:\tlearn: 1.6029678\ttest: 1.6073706\tbest: 1.6073706 (100)\ttotal: 10m 15s\tremaining: 40m 31s\n",
      "150:\tlearn: 1.5250946\ttest: 1.5581991\tbest: 1.5581991 (150)\ttotal: 15m 38s\tremaining: 36m 9s\n",
      "200:\tlearn: 1.4736060\ttest: 1.5357500\tbest: 1.5356146 (196)\ttotal: 21m 29s\tremaining: 31m 57s\n",
      "250:\tlearn: 1.3910444\ttest: 1.5095707\tbest: 1.5095707 (250)\ttotal: 28m 9s\tremaining: 27m 55s\n",
      "300:\tlearn: 1.3377256\ttest: 1.4954333\tbest: 1.4953918 (298)\ttotal: 32m 44s\tremaining: 21m 38s\n",
      "350:\tlearn: 1.3047366\ttest: 1.4877374\tbest: 1.4877374 (350)\ttotal: 36m 48s\tremaining: 15m 37s\n",
      "400:\tlearn: 1.2748954\ttest: 1.4846130\tbest: 1.4846130 (400)\ttotal: 40m 41s\tremaining: 10m 2s\n",
      "450:\tlearn: 1.2454797\ttest: 1.4808275\tbest: 1.4807827 (449)\ttotal: 44m 41s\tremaining: 4m 51s\n",
      "\n",
      "bestTest = 1.475326417\n",
      "bestIteration = 499\n",
      "\n",
      "Shrink model to first 500 iterations.\n",
      "CPU times: user 2h 21min 9s, sys: 6min 18s, total: 2h 27min 28s\n",
      "Wall time: 48min 42s\n"
     ]
    }
   ],
   "source": [
    "%%time\n",
    "cb_model = CatBoostRegressor(iterations = 500,\n",
    "                            learning_rate = 0.05,\n",
    "                            depth = 10,\n",
    "                            eval_metric = 'RMSE',\n",
    "                            random_seed = 42,\n",
    "                            bagging_temperature = 0.2,\n",
    "                            od_type = 'Iter',\n",
    "                            metric_period = 50,\n",
    "                            od_wait = 20)\n",
    "cb_model.fit(X_dev, y_dev_log1p,\n",
    "            eval_set=(X_val, y_val_log1p),\n",
    "            use_best_model=True,\n",
    "            verbose=True)"
   ]
  },
  {
   "cell_type": "code",
   "execution_count": 29,
   "metadata": {},
   "outputs": [],
   "source": [
    "pred_test_cat = np.expm1(cb_model.predict(X_test))"
   ]
  },
  {
   "cell_type": "code",
   "execution_count": 30,
   "metadata": {},
   "outputs": [],
   "source": [
    "submission = pd.DataFrame()\n",
    "submission['ID'] = test_df['ID']\n",
    "submission['target'] = pred_test_cat\n",
    "submission.to_csv('submission.csv', index=False)"
   ]
  },
  {
   "cell_type": "markdown",
   "metadata": {},
   "source": [
    "## 3.3 LightGBM"
   ]
  },
  {
   "cell_type": "code",
   "execution_count": 32,
   "metadata": {},
   "outputs": [
    {
     "name": "stdout",
     "output_type": "stream",
     "text": [
      "Training until validation scores don't improve for 100 rounds.\n",
      "[150]\ttraining's rmse: 1.46025\tvalid_1's rmse: 1.51496\n",
      "[300]\ttraining's rmse: 1.2833\tvalid_1's rmse: 1.44614\n",
      "[450]\ttraining's rmse: 1.16789\tvalid_1's rmse: 1.42235\n",
      "[600]\ttraining's rmse: 1.08366\tvalid_1's rmse: 1.4136\n",
      "[750]\ttraining's rmse: 1.01814\tvalid_1's rmse: 1.4113\n",
      "[900]\ttraining's rmse: 0.966116\tvalid_1's rmse: 1.4108\n",
      "Early stopping, best iteration is:\n",
      "[908]\ttraining's rmse: 0.963643\tvalid_1's rmse: 1.41069\n",
      "LightGBM Training Completed...\n"
     ]
    }
   ],
   "source": [
    "def run_lgb(X_dev, y_dev, X_val, y_val, X_test):\n",
    "    params = {\n",
    "        \"objective\" : \"regression\",\n",
    "        \"metric\" : \"rmse\",\n",
    "        \"num_leaves\" : 40,\n",
    "        \"learning_rate\" : 0.005,\n",
    "        \"bagging_fraction\" : 0.6,\n",
    "        \"feature_fraction\" : 0.6,\n",
    "        \"baggging_frequency\" : 6,\n",
    "        \"bagging_seed\" : 42,\n",
    "        \"verbosity\" : -1,\n",
    "        \"seed\" : 42\n",
    "    }\n",
    "    \n",
    "    lgbdev = lgb.Dataset(X_dev, label=y_dev)\n",
    "    lgbval = lgb.Dataset(X_val, label=y_val)\n",
    "    evals_result = {}\n",
    "    model = lgb.train(params,\n",
    "                     lgbdev,\n",
    "                     5000,\n",
    "                     valid_sets=[lgbdev, lgbval],\n",
    "                     early_stopping_rounds = 100,\n",
    "                     verbose_eval=150,\n",
    "                     evals_result=evals_result)\n",
    "    pred_test_y = np.expm1(model.predict(X_test, num_iteration=model.best_iteration))\n",
    "    return pred_test_y, model, evals_result\n",
    "\n",
    "# Train LGB\n",
    "pred_test_lgb, lgb_model, evals_result_lgb = run_lgb(X_dev, y_dev_log1p, X_val, y_val_log1p, X_test)\n",
    "print(\"LightGBM Training Completed...\")"
   ]
  },
  {
   "cell_type": "code",
   "execution_count": 33,
   "metadata": {},
   "outputs": [],
   "source": [
    "submission_lgb = pd.DataFrame()\n",
    "submission_lgb['ID'] = test_df['ID']\n",
    "submission_lgb['target'] = pred_test_lgb\n",
    "submission_lgb.to_csv('submission_lgb.csv', index=False)"
   ]
  },
  {
   "cell_type": "markdown",
   "metadata": {},
   "source": [
    "## 3.4 Xgboost"
   ]
  },
  {
   "cell_type": "code",
   "execution_count": 35,
   "metadata": {},
   "outputs": [
    {
     "name": "stdout",
     "output_type": "stream",
     "text": [
      "[0]\ttrain-rmse:14.0877\tvalid-rmse:14.0769\n",
      "Multiple eval metrics have been passed: 'valid-rmse' will be used for early stopping.\n",
      "\n",
      "Will train until valid-rmse hasn't improved in 100 rounds.\n",
      "[100]\ttrain-rmse:12.7685\tvalid-rmse:12.7564\n",
      "[200]\ttrain-rmse:11.5766\tvalid-rmse:11.5632\n",
      "[300]\ttrain-rmse:10.4999\tvalid-rmse:10.4853\n",
      "[400]\ttrain-rmse:9.52768\tvalid-rmse:9.51285\n",
      "[500]\ttrain-rmse:8.65058\tvalid-rmse:8.6359\n",
      "[600]\ttrain-rmse:7.85824\tvalid-rmse:7.84463\n",
      "[700]\ttrain-rmse:7.14349\tvalid-rmse:7.13189\n",
      "[800]\ttrain-rmse:6.49876\tvalid-rmse:6.48996\n",
      "[900]\ttrain-rmse:5.91707\tvalid-rmse:5.91197\n",
      "[1000]\ttrain-rmse:5.39237\tvalid-rmse:5.39154\n",
      "[1100]\ttrain-rmse:4.91949\tvalid-rmse:4.92438\n",
      "[1200]\ttrain-rmse:4.49361\tvalid-rmse:4.50471\n",
      "[1300]\ttrain-rmse:4.10984\tvalid-rmse:4.12821\n",
      "[1400]\ttrain-rmse:3.76504\tvalid-rmse:3.79227\n",
      "[1500]\ttrain-rmse:3.45482\tvalid-rmse:3.49131\n",
      "[1600]\ttrain-rmse:3.17624\tvalid-rmse:3.22403\n",
      "[1700]\ttrain-rmse:2.92645\tvalid-rmse:2.98643\n",
      "[1800]\ttrain-rmse:2.70319\tvalid-rmse:2.77623\n",
      "[1900]\ttrain-rmse:2.5034\tvalid-rmse:2.59061\n",
      "[2000]\ttrain-rmse:2.32537\tvalid-rmse:2.42712\n",
      "[2100]\ttrain-rmse:2.16728\tvalid-rmse:2.28456\n",
      "[2200]\ttrain-rmse:2.02672\tvalid-rmse:2.15983\n",
      "[2300]\ttrain-rmse:1.9022\tvalid-rmse:2.0514\n",
      "[2400]\ttrain-rmse:1.79165\tvalid-rmse:1.95751\n",
      "[2500]\ttrain-rmse:1.6944\tvalid-rmse:1.87663\n",
      "[2600]\ttrain-rmse:1.60854\tvalid-rmse:1.80732\n",
      "[2700]\ttrain-rmse:1.53367\tvalid-rmse:1.74856\n",
      "[2800]\ttrain-rmse:1.46736\tvalid-rmse:1.69838\n",
      "[2900]\ttrain-rmse:1.40999\tvalid-rmse:1.6559\n",
      "[3000]\ttrain-rmse:1.35938\tvalid-rmse:1.62004\n",
      "[3100]\ttrain-rmse:1.31492\tvalid-rmse:1.58979\n",
      "[3200]\ttrain-rmse:1.2761\tvalid-rmse:1.56403\n",
      "[3300]\ttrain-rmse:1.24233\tvalid-rmse:1.54256\n",
      "[3400]\ttrain-rmse:1.21274\tvalid-rmse:1.52455\n",
      "[3500]\ttrain-rmse:1.18622\tvalid-rmse:1.50927\n",
      "[3600]\ttrain-rmse:1.1628\tvalid-rmse:1.49665\n",
      "[3700]\ttrain-rmse:1.14229\tvalid-rmse:1.4861\n",
      "[3800]\ttrain-rmse:1.12423\tvalid-rmse:1.4774\n",
      "[3900]\ttrain-rmse:1.10777\tvalid-rmse:1.46977\n",
      "[4000]\ttrain-rmse:1.09338\tvalid-rmse:1.4634\n",
      "[4100]\ttrain-rmse:1.08088\tvalid-rmse:1.45815\n",
      "[4200]\ttrain-rmse:1.06966\tvalid-rmse:1.45366\n",
      "[4300]\ttrain-rmse:1.0589\tvalid-rmse:1.44975\n",
      "[4400]\ttrain-rmse:1.04962\tvalid-rmse:1.4467\n",
      "[4500]\ttrain-rmse:1.04088\tvalid-rmse:1.44403\n",
      "[4600]\ttrain-rmse:1.03277\tvalid-rmse:1.44173\n",
      "[4700]\ttrain-rmse:1.02518\tvalid-rmse:1.43966\n",
      "[4800]\ttrain-rmse:1.01779\tvalid-rmse:1.43791\n",
      "[4900]\ttrain-rmse:1.01093\tvalid-rmse:1.43654\n",
      "[4999]\ttrain-rmse:1.00423\tvalid-rmse:1.43498\n",
      "XGB Training Completed...\n"
     ]
    }
   ],
   "source": [
    "def run_xgb(X_dev, y_dev, X_val, y_val, X_test):\n",
    "    params = {\n",
    "        'objective' : 'reg:linear',\n",
    "        'eval_metric' : 'rmse',\n",
    "        'eta' : 0.001,\n",
    "        'max_depth' : 10,\n",
    "        'subsample' : 0.6,\n",
    "        'colsample_bytree' : 0.6,\n",
    "        'alpha' : 0.001,\n",
    "        'random_state' : 42,\n",
    "        'silent' : True\n",
    "    }\n",
    "    \n",
    "    xgbdev = xgb.DMatrix(X_dev, y_dev)\n",
    "    xgbval = xgb.DMatrix(X_val, y_val)\n",
    "    watchlist = [(xgbdev, 'train'), (xgbval, 'valid')]\n",
    "    xgb_model = xgb.train(params,\n",
    "                         xgbdev,\n",
    "                         5000,\n",
    "                         watchlist,\n",
    "                         maximize=False,\n",
    "                         early_stopping_rounds=100,\n",
    "                         verbose_eval=100)\n",
    "    \n",
    "    xgbtest = xgb.DMatrix(X_test)\n",
    "    pred_test_xgb = np.expm1(xgb_model.predict(xgbtest, ntree_limit=xgb_model.best_ntree_limit))\n",
    "    return pred_test_xgb, xgb_model\n",
    "\n",
    "# Train XGB\n",
    "pred_test_xgb, xgb_model = run_xgb(X_dev, y_dev_log1p, X_val, y_val_log1p, X_test)\n",
    "print(\"XGB Training Completed...\")\n",
    "    "
   ]
  },
  {
   "cell_type": "code",
   "execution_count": 36,
   "metadata": {},
   "outputs": [],
   "source": [
    "submission_xgb = pd.DataFrame()\n",
    "submission_xgb['ID'] = test_df['ID']\n",
    "submission_xgb['target'] = pred_test_xgb\n",
    "submission_xgb.to_csv('submission_xgb.csv', index=False)"
   ]
  },
  {
   "cell_type": "code",
   "execution_count": null,
   "metadata": {},
   "outputs": [],
   "source": []
  }
 ],
 "metadata": {
  "kernelspec": {
   "display_name": "Python 3",
   "language": "python",
   "name": "python3"
  },
  "language_info": {
   "codemirror_mode": {
    "name": "ipython",
    "version": 3
   },
   "file_extension": ".py",
   "mimetype": "text/x-python",
   "name": "python",
   "nbconvert_exporter": "python",
   "pygments_lexer": "ipython3",
   "version": "3.6.5"
  }
 },
 "nbformat": 4,
 "nbformat_minor": 2
}
