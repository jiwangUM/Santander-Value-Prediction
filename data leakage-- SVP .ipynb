{
 "cells": [
  {
   "cell_type": "code",
   "execution_count": 1,
   "metadata": {},
   "outputs": [],
   "source": [
    "## https://www.kaggle.com/tezdhar/breaking-lb-fresh-start"
   ]
  },
  {
   "cell_type": "code",
   "execution_count": 2,
   "metadata": {},
   "outputs": [],
   "source": [
    "import numpy as np # linear algebra\n",
    "import pandas as pd # data processing, CSV file I/O (e.g. pd.read_csv)\n",
    "\n",
    "\n",
    "import lightgbm as lgb\n",
    "from sklearn.model_selection import *\n",
    "from sklearn.metrics import mean_squared_error, make_scorer\n",
    "from scipy.stats import mode, skew, kurtosis, entropy\n",
    "from sklearn.ensemble import ExtraTreesRegressor\n",
    "\n",
    "import matplotlib.pyplot as plt\n",
    "import seaborn as sns\n",
    "\n",
    "import dask.dataframe as dd\n",
    "from dask.multiprocessing import get\n",
    "\n",
    "from tqdm import tqdm, tqdm_notebook\n",
    "tqdm.pandas(tqdm_notebook)\n",
    "from math import sqrt\n"
   ]
  },
  {
   "cell_type": "code",
   "execution_count": 3,
   "metadata": {},
   "outputs": [],
   "source": [
    "train_df=pd.read_csv('E:/Projects/Santander Value Prediction/train.csv')\n",
    "test_df = pd.read_csv('E:/Projects/Santander Value Prediction//test.csv')"
   ]
  },
  {
   "cell_type": "markdown",
   "metadata": {},
   "source": [
    "### Get features and target"
   ]
  },
  {
   "cell_type": "code",
   "execution_count": 4,
   "metadata": {},
   "outputs": [],
   "source": [
    "FEATURES = ['f190486d6', '58e2e02e6', 'eeb9cd3aa', '9fd594eec', '6eef030c1', \n",
    "            '15ace8c9f', 'fb0f5dbfe', '58e056e12', '20aa07010', '024c577b9', \n",
    "            'd6bb78916', 'b43a7cfd5', '58232a6fb', '1702b5bf0', '324921c7b', \n",
    "            '62e59a501', '2ec5b290f', '241f0f867', 'fb49e4212', '66ace2992', \n",
    "            'f74e8f13d', '5c6487af1', '963a49cdc', '26fc93eb7', '1931ccfdd', \n",
    "            '703885424', '70feb1494', '491b9ee45', '23310aa6f', 'e176a204a', \n",
    "            '6619d81fc', '1db387535', 'fc99f9426', '91f701ba2', '0572565c2', \n",
    "            '190db8488', 'adb64ff71', 'c47340d97', 'c5a231d81', '0ff32eb98']"
   ]
  },
  {
   "cell_type": "code",
   "execution_count": 5,
   "metadata": {},
   "outputs": [],
   "source": [
    "def get_pred(data, lag=2):\n",
    "    d1 = data[FEATURES[:-lag]].apply(tuple, axis=1).to_frame().rename(columns={0: 'key'})\n",
    "    d2 = data[FEATURES[lag:]].apply(tuple, axis=1).to_frame().rename(columns={0: 'key'})\n",
    "    d2['pred'] = data[FEATURES[lag - 2]]\n",
    "    d3 = d2[~d2.duplicated(['key'], keep=False)]\n",
    "    return d1.merge(d3, how='left', on='key').pred.fillna(0)"
   ]
  },
  {
   "cell_type": "code",
   "execution_count": 6,
   "metadata": {},
   "outputs": [],
   "source": [
    "def get_all_pred(data, max_lag):\n",
    "    target = pd.Series(index=data.index, data=np.zeros(data.shape[0]))\n",
    "    for lag in range(2, max_lag + 1):\n",
    "        pred = get_pred(data, lag)\n",
    "        mask = (target == 0) & (pred != 0)\n",
    "        target[mask] = pred[mask]\n",
    "    return target"
   ]
  },
  {
   "cell_type": "markdown",
   "metadata": {},
   "source": [
    "### Training Set Analysis "
   ]
  },
  {
   "cell_type": "code",
   "execution_count": 7,
   "metadata": {},
   "outputs": [
    {
     "name": "stdout",
     "output_type": "stream",
     "text": [
      "Max lag 2: Score = 0.14119979229541013 on 1351 out of 4459 training samples\n",
      "Max lag 3: Score = 0.11772801045868977 on 1947 out of 4459 training samples\n",
      "Max lag 4: Score = 0.1700015225894321 on 2340 out of 4459 training samples\n",
      "Max lag 5: Score = 0.16694209979909475 on 2586 out of 4459 training samples\n",
      "Max lag 6: Score = 0.1617700665181974 on 2754 out of 4459 training samples\n",
      "Max lag 7: Score = 0.1578320556062351 on 2899 out of 4459 training samples\n",
      "Max lag 8: Score = 0.17261095273421487 on 3014 out of 4459 training samples\n",
      "Max lag 9: Score = 0.19187680371761628 on 3110 out of 4459 training samples\n",
      "Max lag 10: Score = 0.19145381804966508 on 3188 out of 4459 training samples\n",
      "Max lag 11: Score = 0.1927802474230348 on 3237 out of 4459 training samples\n",
      "Max lag 12: Score = 0.19219457876972026 on 3296 out of 4459 training samples\n",
      "Max lag 13: Score = 0.19103885825602165 on 3336 out of 4459 training samples\n",
      "Max lag 14: Score = 0.23096553241898027 on 3382 out of 4459 training samples\n",
      "Max lag 15: Score = 0.23161961973204898 on 3416 out of 4459 training samples\n",
      "Max lag 16: Score = 0.23047547978875224 on 3450 out of 4459 training samples\n",
      "Max lag 17: Score = 0.2457746360102802 on 3470 out of 4459 training samples\n",
      "Max lag 18: Score = 0.26038133294701793 on 3489 out of 4459 training samples\n",
      "Max lag 19: Score = 0.25956427354774186 on 3511 out of 4459 training samples\n",
      "Max lag 20: Score = 0.2590809317626569 on 3528 out of 4459 training samples\n",
      "Max lag 21: Score = 0.2584954373831652 on 3544 out of 4459 training samples\n",
      "Max lag 22: Score = 0.2580589122689003 on 3556 out of 4459 training samples\n",
      "Max lag 23: Score = 0.2643848665233196 on 3573 out of 4459 training samples\n",
      "Max lag 24: Score = 0.26804343610853054 on 3583 out of 4459 training samples\n",
      "Max lag 25: Score = 0.2676215802813615 on 3595 out of 4459 training samples\n",
      "Max lag 26: Score = 0.2687451906344324 on 3605 out of 4459 training samples\n",
      "Max lag 27: Score = 0.26852182570544036 on 3611 out of 4459 training samples\n",
      "Max lag 28: Score = 0.27353806515809254 on 3622 out of 4459 training samples\n",
      "Max lag 29: Score = 0.2768546928267242 on 3628 out of 4459 training samples\n",
      "Max lag 30: Score = 0.277652712531 on 3633 out of 4459 training samples\n",
      "Max lag 31: Score = 0.2853387596383731 on 3637 out of 4459 training samples\n",
      "Max lag 32: Score = 0.2924801276707141 on 3644 out of 4459 training samples\n"
     ]
    }
   ],
   "source": [
    "for max_lag in range(2, 33):\n",
    "    pred_train = get_all_pred(train_df, max_lag)\n",
    "    have_data = pred_train != 0\n",
    "    print(f'Max lag {max_lag}: Score = {sqrt(mean_squared_error(np.log1p(train_df.target[have_data]), np.log1p(pred_train[have_data])))} on {have_data.sum()} out of {train_df.shape[0]} training samples')"
   ]
  },
  {
   "cell_type": "markdown",
   "metadata": {},
   "source": [
    "### Test Set Predictions"
   ]
  },
  {
   "cell_type": "code",
   "execution_count": 8,
   "metadata": {},
   "outputs": [
    {
     "name": "stdout",
     "output_type": "stream",
     "text": [
      "Have predictions for 7803 out of 49342 test_df samples\n"
     ]
    }
   ],
   "source": [
    "pred_test = get_all_pred(test_df, 29)\n",
    "have_data = pred_test != 0\n",
    "print(f'Have predictions for {have_data.sum()} out of {test_df.shape[0]} test_df samples')"
   ]
  },
  {
   "cell_type": "code",
   "execution_count": 9,
   "metadata": {},
   "outputs": [],
   "source": [
    "sub = pd.read_csv('E:/Projects/Santander Value Prediction/sample_submission.csv')\n",
    "sub.loc[have_data, 'target'] = pred_test[have_data]\n",
    "sub.to_csv(f'new_submission.csv', index=False)"
   ]
  },
  {
   "cell_type": "code",
   "execution_count": null,
   "metadata": {},
   "outputs": [],
   "source": []
  }
 ],
 "metadata": {
  "kernelspec": {
   "display_name": "Python 3",
   "language": "python",
   "name": "python3"
  },
  "language_info": {
   "codemirror_mode": {
    "name": "ipython",
    "version": 3
   },
   "file_extension": ".py",
   "mimetype": "text/x-python",
   "name": "python",
   "nbconvert_exporter": "python",
   "pygments_lexer": "ipython3",
   "version": "3.6.4"
  }
 },
 "nbformat": 4,
 "nbformat_minor": 2
}
