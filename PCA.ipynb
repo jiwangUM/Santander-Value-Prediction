{
 "cells": [
  {
   "cell_type": "markdown",
   "metadata": {},
   "source": [
    "# Principal Component Analysis\n",
    "\n",
    "BitTiger DS501\n",
    "\n",
    "Aug 2017"
   ]
  },
  {
   "cell_type": "markdown",
   "metadata": {},
   "source": [
    "### Load data"
   ]
  },
  {
   "cell_type": "code",
   "execution_count": 1,
   "metadata": {},
   "outputs": [],
   "source": [
    "import pandas as pd\n",
    "import numpy as np\n",
    "\n",
    "df_hitters = pd.read_csv('data/hitters.csv')\n",
    "\n",
    "# Dropping NAs\n",
    "df_hitters.dropna(inplace=True)"
   ]
  },
  {
   "cell_type": "code",
   "execution_count": 29,
   "metadata": {},
   "outputs": [
    {
     "name": "stdout",
     "output_type": "stream",
     "text": [
      "<class 'pandas.core.frame.DataFrame'>\n",
      "Index: 263 entries, -Alan Ashby to -Willie Wilson\n",
      "Data columns (total 20 columns):\n",
      "AtBat        263 non-null int64\n",
      "Hits         263 non-null int64\n",
      "HmRun        263 non-null int64\n",
      "Runs         263 non-null int64\n",
      "RBI          263 non-null int64\n",
      "Walks        263 non-null int64\n",
      "Years        263 non-null int64\n",
      "CAtBat       263 non-null int64\n",
      "CHits        263 non-null int64\n",
      "CHmRun       263 non-null int64\n",
      "CRuns        263 non-null int64\n",
      "CRBI         263 non-null int64\n",
      "CWalks       263 non-null int64\n",
      "League       263 non-null int64\n",
      "Division     263 non-null int64\n",
      "PutOuts      263 non-null int64\n",
      "Assists      263 non-null int64\n",
      "Errors       263 non-null int64\n",
      "Salary       263 non-null float64\n",
      "NewLeague    263 non-null int64\n",
      "dtypes: float64(1), int64(19)\n",
      "memory usage: 43.1+ KB\n"
     ]
    }
   ],
   "source": [
    "df_hitters.info()\n",
    "## 有三个object 需要转化为numerical data"
   ]
  },
  {
   "cell_type": "code",
   "execution_count": 2,
   "metadata": {},
   "outputs": [
    {
     "data": {
      "text/html": [
       "<div>\n",
       "<style scoped>\n",
       "    .dataframe tbody tr th:only-of-type {\n",
       "        vertical-align: middle;\n",
       "    }\n",
       "\n",
       "    .dataframe tbody tr th {\n",
       "        vertical-align: top;\n",
       "    }\n",
       "\n",
       "    .dataframe thead th {\n",
       "        text-align: right;\n",
       "    }\n",
       "</style>\n",
       "<table border=\"1\" class=\"dataframe\">\n",
       "  <thead>\n",
       "    <tr style=\"text-align: right;\">\n",
       "      <th></th>\n",
       "      <th>AtBat</th>\n",
       "      <th>Hits</th>\n",
       "      <th>HmRun</th>\n",
       "      <th>Runs</th>\n",
       "      <th>RBI</th>\n",
       "      <th>Walks</th>\n",
       "      <th>Years</th>\n",
       "      <th>CAtBat</th>\n",
       "      <th>CHits</th>\n",
       "      <th>CHmRun</th>\n",
       "      <th>CRuns</th>\n",
       "      <th>CRBI</th>\n",
       "      <th>CWalks</th>\n",
       "      <th>League</th>\n",
       "      <th>Division</th>\n",
       "      <th>PutOuts</th>\n",
       "      <th>Assists</th>\n",
       "      <th>Errors</th>\n",
       "      <th>Salary</th>\n",
       "      <th>NewLeague</th>\n",
       "    </tr>\n",
       "  </thead>\n",
       "  <tbody>\n",
       "    <tr>\n",
       "      <th>-Alan Ashby</th>\n",
       "      <td>315</td>\n",
       "      <td>81</td>\n",
       "      <td>7</td>\n",
       "      <td>24</td>\n",
       "      <td>38</td>\n",
       "      <td>39</td>\n",
       "      <td>14</td>\n",
       "      <td>3449</td>\n",
       "      <td>835</td>\n",
       "      <td>69</td>\n",
       "      <td>321</td>\n",
       "      <td>414</td>\n",
       "      <td>375</td>\n",
       "      <td>N</td>\n",
       "      <td>W</td>\n",
       "      <td>632</td>\n",
       "      <td>43</td>\n",
       "      <td>10</td>\n",
       "      <td>475.0</td>\n",
       "      <td>N</td>\n",
       "    </tr>\n",
       "    <tr>\n",
       "      <th>-Alvin Davis</th>\n",
       "      <td>479</td>\n",
       "      <td>130</td>\n",
       "      <td>18</td>\n",
       "      <td>66</td>\n",
       "      <td>72</td>\n",
       "      <td>76</td>\n",
       "      <td>3</td>\n",
       "      <td>1624</td>\n",
       "      <td>457</td>\n",
       "      <td>63</td>\n",
       "      <td>224</td>\n",
       "      <td>266</td>\n",
       "      <td>263</td>\n",
       "      <td>A</td>\n",
       "      <td>W</td>\n",
       "      <td>880</td>\n",
       "      <td>82</td>\n",
       "      <td>14</td>\n",
       "      <td>480.0</td>\n",
       "      <td>A</td>\n",
       "    </tr>\n",
       "    <tr>\n",
       "      <th>-Andre Dawson</th>\n",
       "      <td>496</td>\n",
       "      <td>141</td>\n",
       "      <td>20</td>\n",
       "      <td>65</td>\n",
       "      <td>78</td>\n",
       "      <td>37</td>\n",
       "      <td>11</td>\n",
       "      <td>5628</td>\n",
       "      <td>1575</td>\n",
       "      <td>225</td>\n",
       "      <td>828</td>\n",
       "      <td>838</td>\n",
       "      <td>354</td>\n",
       "      <td>N</td>\n",
       "      <td>E</td>\n",
       "      <td>200</td>\n",
       "      <td>11</td>\n",
       "      <td>3</td>\n",
       "      <td>500.0</td>\n",
       "      <td>N</td>\n",
       "    </tr>\n",
       "    <tr>\n",
       "      <th>-Andres Galarraga</th>\n",
       "      <td>321</td>\n",
       "      <td>87</td>\n",
       "      <td>10</td>\n",
       "      <td>39</td>\n",
       "      <td>42</td>\n",
       "      <td>30</td>\n",
       "      <td>2</td>\n",
       "      <td>396</td>\n",
       "      <td>101</td>\n",
       "      <td>12</td>\n",
       "      <td>48</td>\n",
       "      <td>46</td>\n",
       "      <td>33</td>\n",
       "      <td>N</td>\n",
       "      <td>E</td>\n",
       "      <td>805</td>\n",
       "      <td>40</td>\n",
       "      <td>4</td>\n",
       "      <td>91.5</td>\n",
       "      <td>N</td>\n",
       "    </tr>\n",
       "    <tr>\n",
       "      <th>-Alfredo Griffin</th>\n",
       "      <td>594</td>\n",
       "      <td>169</td>\n",
       "      <td>4</td>\n",
       "      <td>74</td>\n",
       "      <td>51</td>\n",
       "      <td>35</td>\n",
       "      <td>11</td>\n",
       "      <td>4408</td>\n",
       "      <td>1133</td>\n",
       "      <td>19</td>\n",
       "      <td>501</td>\n",
       "      <td>336</td>\n",
       "      <td>194</td>\n",
       "      <td>A</td>\n",
       "      <td>W</td>\n",
       "      <td>282</td>\n",
       "      <td>421</td>\n",
       "      <td>25</td>\n",
       "      <td>750.0</td>\n",
       "      <td>A</td>\n",
       "    </tr>\n",
       "  </tbody>\n",
       "</table>\n",
       "</div>"
      ],
      "text/plain": [
       "                   AtBat  Hits  HmRun  Runs  RBI  Walks  Years  CAtBat  CHits  \\\n",
       "-Alan Ashby          315    81      7    24   38     39     14    3449    835   \n",
       "-Alvin Davis         479   130     18    66   72     76      3    1624    457   \n",
       "-Andre Dawson        496   141     20    65   78     37     11    5628   1575   \n",
       "-Andres Galarraga    321    87     10    39   42     30      2     396    101   \n",
       "-Alfredo Griffin     594   169      4    74   51     35     11    4408   1133   \n",
       "\n",
       "                   CHmRun  CRuns  CRBI  CWalks League Division  PutOuts  \\\n",
       "-Alan Ashby            69    321   414     375      N        W      632   \n",
       "-Alvin Davis           63    224   266     263      A        W      880   \n",
       "-Andre Dawson         225    828   838     354      N        E      200   \n",
       "-Andres Galarraga      12     48    46      33      N        E      805   \n",
       "-Alfredo Griffin       19    501   336     194      A        W      282   \n",
       "\n",
       "                   Assists  Errors  Salary NewLeague  \n",
       "-Alan Ashby             43      10   475.0         N  \n",
       "-Alvin Davis            82      14   480.0         A  \n",
       "-Andre Dawson           11       3   500.0         N  \n",
       "-Andres Galarraga       40       4    91.5         N  \n",
       "-Alfredo Griffin       421      25   750.0         A  "
      ]
     },
     "execution_count": 2,
     "metadata": {},
     "output_type": "execute_result"
    }
   ],
   "source": [
    "df_hitters.head()"
   ]
  },
  {
   "cell_type": "code",
   "execution_count": 3,
   "metadata": {},
   "outputs": [
    {
     "data": {
      "text/plain": [
       "W    134\n",
       "E    129\n",
       "Name: Division, dtype: int64"
      ]
     },
     "execution_count": 3,
     "metadata": {},
     "output_type": "execute_result"
    }
   ],
   "source": [
    "df_hitters['Division'].value_counts()"
   ]
  },
  {
   "cell_type": "markdown",
   "metadata": {},
   "source": [
    "### Cleaning the data\n",
    "怎么把categorical变成numerical"
   ]
  },
  {
   "cell_type": "code",
   "execution_count": 11,
   "metadata": {},
   "outputs": [],
   "source": [
    "# Binarizing columns\n",
    "def map_binary(df, col): ##定义了一个function,对df -- dataset的col进行操作\n",
    "    vals = df[col].unique()  ##找到unique column，就是比如说上面division列有两个不同的值，所以vals=['E','W']\n",
    "    df[col] = df[col].apply(lambda x: 0 if x == vals[0] else 1)\n",
    "\n",
    "map_binary(df_hitters, 'League')\n",
    "map_binary(df_hitters, 'NewLeague')\n",
    "map_binary(df_hitters, 'Division')"
   ]
  },
  {
   "cell_type": "markdown",
   "metadata": {},
   "source": [
    "### Get features and target"
   ]
  },
  {
   "cell_type": "code",
   "execution_count": 12,
   "metadata": {},
   "outputs": [],
   "source": [
    "feature_names = df_hitters.columns.difference(['Salary'])  ##出了Salary这列剩下的都取出来--difference的用法\n",
    "\n",
    "X = df_hitters[feature_names].astype(float).values\n",
    "\n",
    "y = df_hitters['Salary'].values\n"
   ]
  },
  {
   "cell_type": "markdown",
   "metadata": {},
   "source": [
    "### Stardardize features"
   ]
  },
  {
   "cell_type": "code",
   "execution_count": 13,
   "metadata": {},
   "outputs": [],
   "source": [
    "from sklearn.preprocessing import StandardScaler\n",
    "\n",
    "scaler = StandardScaler()\n",
    "\n",
    "X_scaled = scaler.fit_transform(X)\n",
    "\n",
    "#三部曲 import, initialize, fit_transform"
   ]
  },
  {
   "cell_type": "markdown",
   "metadata": {},
   "source": [
    "### Train test split"
   ]
  },
  {
   "cell_type": "code",
   "execution_count": 14,
   "metadata": {},
   "outputs": [
    {
     "name": "stderr",
     "output_type": "stream",
     "text": [
      "C:\\Users\\blanc\\Anaconda3\\envs\\ipykernel_py2\\lib\\site-packages\\sklearn\\cross_validation.py:41: DeprecationWarning: This module was deprecated in version 0.18 in favor of the model_selection module into which all the refactored classes and functions are moved. Also note that the interface of the new CV iterators are different from that of this module. This module will be removed in 0.20.\n",
      "  \"This module will be removed in 0.20.\", DeprecationWarning)\n"
     ]
    }
   ],
   "source": [
    "from sklearn.cross_validation import train_test_split\n",
    "\n",
    "X_train, X_test, y_train, y_test = train_test_split(X_scaled, y, test_size=0.2, random_state=42)"
   ]
  },
  {
   "cell_type": "markdown",
   "metadata": {},
   "source": [
    "### Use PCA to transform data and get princial components"
   ]
  },
  {
   "cell_type": "code",
   "execution_count": 15,
   "metadata": {},
   "outputs": [],
   "source": [
    "from sklearn.decomposition import PCA\n",
    "\n",
    "n_col = X_train.shape[1] #19\n",
    "\n",
    "pca = PCA(n_components=n_col) #建立PCA的数量，和原来data的全部列数一样\n",
    "\n",
    "train_components = pca.fit_transform(X_train) # training---fit_transform\n",
    "## fit(X_train)\n",
    "## train_components = pca.transform(X_train) n上面这一行跟这两行的意思一样的\n",
    "test_components = pca.transform(X_test)    ##testing-- only transform\n"
   ]
  },
  {
   "cell_type": "code",
   "execution_count": 16,
   "metadata": {},
   "outputs": [
    {
     "data": {
      "text/plain": [
       "array([[ 7.33922745e-03,  1.85145295e-01,  3.36008029e-01,\n",
       "         3.36905477e-01,  3.35835564e-01,  3.49372342e-01,\n",
       "         3.46247730e-01,  3.19102624e-01,  2.53013254e-02,\n",
       "         3.29534159e-03,  1.82511115e-01,  1.98354238e-01,\n",
       "         3.47853584e-02,  2.20743882e-02,  8.83588003e-02,\n",
       "         2.21314711e-01,  1.83961529e-01,  1.92798009e-01,\n",
       "         2.82660046e-01],\n",
       "       [-1.37002768e-01, -3.81492386e-01,  1.86991507e-01,\n",
       "         1.80441490e-01,  1.15909883e-01,  1.56138406e-01,\n",
       "         1.70952144e-01,  1.78633694e-01, -3.27674496e-02,\n",
       "        -1.54880591e-01, -3.72073299e-01, -2.51217970e-01,\n",
       "        -1.27159074e-01, -1.01794027e-01, -2.08825037e-01,\n",
       "        -3.23837913e-01, -3.77329322e-01, -2.47807859e-01,\n",
       "         2.52611764e-01],\n",
       "       [ 3.84771453e-01,  1.17328883e-01,  7.04590089e-02,\n",
       "         7.38795193e-02, -1.21472562e-01, -2.67944585e-03,\n",
       "         3.01995021e-02,  9.95068060e-03, -1.47571051e-02,\n",
       "         3.60320765e-01,  1.08814533e-01, -2.07127440e-01,\n",
       "        -5.52209410e-01, -5.57386744e-01,  9.30936280e-02,\n",
       "        -4.64561504e-02, -7.88867772e-04,  2.07063688e-02,\n",
       "         1.81114538e-02],\n",
       "       [ 5.17081423e-01,  7.91280510e-02,  9.36364436e-02,\n",
       "         8.65690352e-02, -8.11592260e-02,  3.18666154e-03,\n",
       "         6.34213528e-02,  1.05352069e-02, -1.74276876e-01,\n",
       "         4.18414135e-01,  6.19147781e-02, -2.41028729e-01,\n",
       "         3.70518433e-01,  3.79019357e-01, -3.37661854e-01,\n",
       "        -1.12333708e-01, -2.96107175e-02, -1.26490237e-01,\n",
       "         8.69004357e-02],\n",
       "       [-9.11586922e-02, -3.07038088e-02,  1.04652203e-03,\n",
       "         1.80198968e-03,  5.54800605e-02,  3.65009344e-02,\n",
       "        -3.10883485e-02, -4.68751627e-02, -9.09798348e-01,\n",
       "         9.16584664e-02, -5.26362013e-02,  1.26103061e-01,\n",
       "        -9.78344900e-03,  2.59286247e-03,  3.36079733e-01,\n",
       "         3.54471329e-02, -8.80944787e-02, -7.92019908e-02,\n",
       "         4.46397919e-03],\n",
       "       [ 6.85066346e-02, -7.94932413e-02,  3.88175553e-02,\n",
       "         5.09385784e-02, -5.42157902e-02,  1.63701925e-02,\n",
       "         2.74928033e-02,  3.60260363e-02,  3.02891459e-01,\n",
       "         1.65667306e-01, -6.88158746e-02, -2.19231345e-01,\n",
       "         1.73755232e-01,  1.99292308e-01,  8.31729551e-01,\n",
       "        -1.30155130e-01, -1.46707735e-01, -7.84937022e-02,\n",
       "         3.64832936e-02],\n",
       "       [-3.02426471e-02,  1.50279116e-01,  4.37515570e-02,\n",
       "         5.87403033e-02, -2.46413519e-01, -1.08419991e-01,\n",
       "         9.09725226e-02,  1.37695011e-01, -2.10085943e-01,\n",
       "        -4.52588396e-01,  1.80915221e-01, -5.00873391e-01,\n",
       "         5.11858927e-02,  2.05626359e-02,  4.81097293e-02,\n",
       "        -3.30464371e-01,  2.15673144e-01,  4.21572855e-01,\n",
       "         6.85877886e-03],\n",
       "       [-1.33143865e-01,  2.41132624e-01,  1.38160660e-01,\n",
       "         1.90820574e-01, -2.13238447e-01,  1.36220708e-02,\n",
       "         8.06231164e-02, -3.05108246e-01,  1.22323103e-02,\n",
       "        -2.55561398e-01,  3.51586807e-01, -1.01151628e-01,\n",
       "         3.35974521e-02, -6.99564603e-02,  2.76225345e-02,\n",
       "         8.48081242e-02,  8.46591149e-02, -6.97387653e-01,\n",
       "         1.28757796e-01],\n",
       "       [ 7.01586984e-01, -2.93694919e-02, -6.47209511e-02,\n",
       "        -9.86398689e-02,  1.66632017e-01,  4.91775771e-02,\n",
       "        -1.03003267e-01,  1.74907093e-03, -2.39085861e-02,\n",
       "        -5.98035180e-01, -4.72102870e-02,  1.28892836e-01,\n",
       "        -8.73886810e-03, -1.53014312e-02,  1.07702642e-01,\n",
       "         1.49488304e-01, -1.89450707e-01, -6.44383414e-02,\n",
       "         2.89181789e-02],\n",
       "       [-5.10426404e-02,  1.81643863e-01, -1.10054487e-01,\n",
       "        -1.21524481e-01,  6.75105482e-01,  2.59219868e-01,\n",
       "        -3.93389478e-02, -6.48918095e-02, -1.51488367e-03,\n",
       "         2.08083490e-02,  1.37305729e-01, -3.11980213e-01,\n",
       "         2.11344473e-02, -4.70111726e-02, -1.11336226e-02,\n",
       "        -2.27542481e-01,  5.27836105e-02, -1.54005086e-01,\n",
       "        -4.59477298e-01],\n",
       "       [-4.43881140e-02,  4.98533573e-02, -2.14329204e-02,\n",
       "        -4.82997365e-02,  3.74839597e-02,  4.06989647e-02,\n",
       "        -8.32245558e-02, -8.80633088e-03, -6.94395585e-04,\n",
       "        -1.96987061e-02,  9.98443210e-02, -1.04044431e-01,\n",
       "        -6.92581191e-01,  6.82509379e-01, -1.69448570e-02,\n",
       "         7.61373774e-02, -3.75663247e-02, -1.65879051e-02,\n",
       "         9.08071816e-02],\n",
       "       [ 1.53987354e-01, -1.27094512e-01,  6.37004917e-02,\n",
       "         9.12787379e-02, -1.14325636e-01, -1.54894491e-01,\n",
       "         2.77875433e-01,  2.73847633e-01, -5.76642254e-03,\n",
       "        -4.52753066e-02, -1.06898670e-01,  3.82204523e-01,\n",
       "        -1.48431867e-01,  1.17401900e-01,  4.99369792e-02,\n",
       "        -3.91699087e-01,  4.09698765e-01, -2.74006265e-01,\n",
       "        -4.05234551e-01],\n",
       "       [-5.00077134e-02,  5.46843448e-02,  1.39096445e-01,\n",
       "         2.55458475e-01, -2.38877949e-01,  3.04339352e-02,\n",
       "         1.94103831e-01,  1.52731656e-01, -1.31771065e-02,\n",
       "        -4.61628649e-02,  1.88855841e-02, -1.07289876e-01,\n",
       "         1.97095042e-04,  4.86642379e-02, -5.28065716e-02,\n",
       "         3.86755344e-01, -4.58661767e-01,  6.34500852e-02,\n",
       "        -6.38439039e-01],\n",
       "       [-9.71419148e-02,  2.23234206e-01, -1.95042250e-01,\n",
       "        -3.03621344e-01,  2.78172875e-02, -2.68426822e-01,\n",
       "        -7.37608197e-02,  7.42594143e-01, -1.51716847e-02,\n",
       "         3.45132195e-02,  2.10230042e-01, -2.64071417e-02,\n",
       "         4.69895393e-02, -6.38147347e-02, -7.40955784e-03,\n",
       "         5.43744601e-02, -1.93667510e-01, -2.57916402e-01,\n",
       "         1.45443846e-01],\n",
       "       [ 3.20529380e-02, -5.06732931e-01, -1.09420711e-01,\n",
       "        -7.16506188e-02, -2.11439120e-02,  1.08259359e-01,\n",
       "        -1.24544782e-02,  1.80833133e-01, -5.24262312e-02,\n",
       "         3.47615556e-03, -6.12117290e-02, -3.92093720e-01,\n",
       "         2.00529936e-02, -3.14159397e-02,  1.32618679e-02,\n",
       "         5.05187024e-01,  4.87363121e-01, -1.53618371e-01,\n",
       "        -4.38120222e-02],\n",
       "       [ 1.20920971e-02, -5.54203192e-01, -6.90738626e-02,\n",
       "         9.83097405e-02, -3.58688495e-02,  1.44893491e-01,\n",
       "        -1.45759359e-01,  3.00636160e-02,  3.85049388e-03,\n",
       "         3.04491535e-02,  7.25516586e-01,  1.64794596e-01,\n",
       "         2.55633905e-02, -1.37044311e-02, -1.70301760e-02,\n",
       "        -1.97560053e-01, -1.76020205e-01,  8.41258928e-02,\n",
       "        -3.39287330e-02],\n",
       "       [-1.72286221e-02,  1.71704212e-01,  1.34528524e-01,\n",
       "         4.02746825e-02, -3.15757572e-01,  5.97637714e-01,\n",
       "        -6.12031290e-01,  2.37063967e-01,  1.15705951e-02,\n",
       "        -1.60847330e-02, -1.50615334e-01,  7.07046160e-02,\n",
       "         2.78755857e-02, -8.36210748e-03, -1.52051463e-02,\n",
       "        -1.16327351e-01,  9.73922122e-02, -6.20095660e-02,\n",
       "        -8.26328560e-02],\n",
       "       [ 1.22730966e-02,  1.04705566e-01, -7.29234625e-01,\n",
       "         1.98617778e-03, -2.27960279e-01,  4.53970916e-01,\n",
       "         4.27280348e-01, -1.93691985e-02, -4.37329524e-03,\n",
       "         7.62956625e-03, -3.92534154e-02,  4.40174626e-02,\n",
       "        -8.22877668e-03,  4.04000094e-03, -6.82484638e-03,\n",
       "        -5.37871256e-02, -5.49030530e-02, -2.06206299e-03,\n",
       "         8.06344840e-02],\n",
       "       [-6.22020592e-03, -4.98242456e-02,  4.13591215e-01,\n",
       "        -7.67782538e-01, -1.76015441e-01,  2.75292147e-01,\n",
       "         3.33898493e-01, -7.91919242e-02, -2.47532121e-03,\n",
       "         3.09733167e-03,  8.57268398e-02,  2.42465980e-02,\n",
       "         5.81737757e-03, -5.11627803e-03,  3.15121538e-03,\n",
       "        -1.49363820e-02, -5.57874023e-02,  1.37033536e-02,\n",
       "        -2.93018677e-02]])"
      ]
     },
     "execution_count": 16,
     "metadata": {},
     "output_type": "execute_result"
    }
   ],
   "source": [
    "# Inspect the principal axes in feature space\n",
    "pca.components_"
   ]
  },
  {
   "cell_type": "code",
   "execution_count": 17,
   "metadata": {},
   "outputs": [
    {
     "data": {
      "text/plain": [
       "array([[ 1.00000000e+00, -3.02047462e-16,  7.73411259e-17,\n",
       "         5.43927584e-17,  2.72597905e-16,  1.24215832e-16,\n",
       "         1.09386607e-16,  6.89512172e-17,  3.35814251e-17,\n",
       "        -3.22781616e-16, -2.88082625e-16,  1.74777690e-16,\n",
       "        -6.77530090e-17, -7.86332827e-17, -2.50053209e-17,\n",
       "        -1.86161351e-16,  1.26245636e-17,  1.58090029e-16,\n",
       "         8.92085194e-18],\n",
       "       [-3.02047462e-16,  1.00000000e+00,  9.65392118e-17,\n",
       "         2.43226757e-16, -1.88481976e-16,  1.20927302e-16,\n",
       "         1.04546395e-16,  1.36298204e-16, -1.27368670e-16,\n",
       "        -4.76107840e-16,  5.50735973e-16, -1.85340932e-16,\n",
       "        -7.67238650e-18,  8.01013391e-17,  4.90819526e-17,\n",
       "         9.34998045e-17, -7.87980458e-17, -1.36721780e-16,\n",
       "         1.01713048e-16],\n",
       "       [ 7.73411259e-17,  9.65392118e-17,  1.00000000e+00,\n",
       "         1.33984908e-16,  8.48901352e-17,  1.93648739e-16,\n",
       "         1.57519644e-16,  1.13060848e-17, -2.77487496e-16,\n",
       "        -1.04646790e-16,  1.28160505e-16,  1.28607003e-16,\n",
       "         6.65212642e-17,  1.64699508e-16,  6.27884402e-17,\n",
       "         1.02935586e-16,  3.09447831e-16, -1.38776752e-16,\n",
       "         3.44673450e-16],\n",
       "       [ 5.43927584e-17,  2.43226757e-16,  1.33984908e-16,\n",
       "         1.00000000e+00,  4.77066371e-17,  1.72081359e-16,\n",
       "         2.08810476e-16, -2.30248554e-16, -2.20306657e-16,\n",
       "        -9.78356314e-17,  5.38272233e-16, -1.06306860e-16,\n",
       "         2.65464278e-16,  2.60413604e-16,  1.49107859e-17,\n",
       "        -2.77937870e-16,  4.00183123e-17, -4.60428929e-17,\n",
       "         2.32591620e-16],\n",
       "       [ 2.72597905e-16, -1.88481976e-16,  8.48901352e-17,\n",
       "         4.77066371e-17,  1.00000000e+00,  5.25269816e-16,\n",
       "         1.91323922e-17,  3.01733915e-16,  2.35369245e-16,\n",
       "         5.57049085e-16,  7.74755284e-17,  3.99819825e-16,\n",
       "        -2.23282441e-16, -1.50745732e-16, -1.98172001e-16,\n",
       "         4.95479284e-17, -1.15392668e-16,  1.78916535e-16,\n",
       "        -4.47895336e-18],\n",
       "       [ 1.24215832e-16,  1.20927302e-16,  1.93648739e-16,\n",
       "         1.72081359e-16,  5.25269816e-16,  1.00000000e+00,\n",
       "         9.88275053e-17,  3.24478560e-17,  1.26111431e-16,\n",
       "         2.82879431e-16, -5.41570074e-17, -1.06442399e-16,\n",
       "         5.24425982e-17, -5.70231413e-17,  1.40419904e-17,\n",
       "         4.23359404e-16, -4.12852811e-17, -1.08392080e-16,\n",
       "         6.66506113e-17],\n",
       "       [ 1.09386607e-16,  1.04546395e-16,  1.57519644e-16,\n",
       "         2.08810476e-16,  1.91323922e-17,  9.88275053e-17,\n",
       "         1.00000000e+00,  1.12782160e-16,  1.98847001e-16,\n",
       "         3.26963854e-17,  6.02401644e-17, -1.23956470e-16,\n",
       "         1.43632119e-16,  3.63869806e-17,  1.45637874e-16,\n",
       "        -3.24712149e-16,  5.07012279e-16, -5.93241899e-17,\n",
       "        -1.32645959e-17],\n",
       "       [ 6.89512172e-17,  1.36298204e-16,  1.13060848e-17,\n",
       "        -2.30248554e-16,  3.01733915e-16,  3.24478560e-17,\n",
       "         1.12782160e-16,  1.00000000e+00, -4.02164856e-16,\n",
       "         2.20809812e-16, -2.51957594e-16, -4.20046491e-17,\n",
       "         1.94384470e-16, -1.53965643e-17, -1.93837447e-16,\n",
       "         1.19875583e-16, -7.85608951e-17,  3.57049792e-16,\n",
       "        -1.81240478e-16],\n",
       "       [ 3.35814251e-17, -1.27368670e-16, -2.77487496e-16,\n",
       "        -2.20306657e-16,  2.35369245e-16,  1.26111431e-16,\n",
       "         1.98847001e-16, -4.02164856e-16,  1.00000000e+00,\n",
       "         5.64286838e-16, -1.94208449e-16,  2.63295991e-16,\n",
       "        -6.83542034e-17, -3.86287482e-17, -1.44054429e-17,\n",
       "         1.32519888e-16, -4.16851013e-17,  9.49392463e-17,\n",
       "        -2.02952221e-16],\n",
       "       [-3.22781616e-16, -4.76107840e-16, -1.04646790e-16,\n",
       "        -9.78356314e-17,  5.57049085e-16,  2.82879431e-16,\n",
       "         3.26963854e-17,  2.20809812e-16,  5.64286838e-16,\n",
       "         1.00000000e+00, -3.63585881e-16,  8.17124837e-16,\n",
       "         1.36892948e-17,  1.05894352e-16, -1.39862094e-16,\n",
       "         2.98446118e-16, -2.17966275e-16, -4.81696497e-17,\n",
       "         6.22401321e-17],\n",
       "       [-2.88082625e-16,  5.50735973e-16,  1.28160505e-16,\n",
       "         5.38272233e-16,  7.74755284e-17, -5.41570074e-17,\n",
       "         6.02401644e-17, -2.51957594e-16, -1.94208449e-16,\n",
       "        -3.63585881e-16,  1.00000000e+00, -1.07408215e-16,\n",
       "         3.39089159e-16, -1.37022965e-16,  1.85196890e-16,\n",
       "        -2.15409897e-16, -3.11343016e-16, -2.77429380e-17,\n",
       "        -4.45159625e-17],\n",
       "       [ 1.74777690e-16, -1.85340932e-16,  1.28607003e-16,\n",
       "        -1.06306860e-16,  3.99819825e-16, -1.06442399e-16,\n",
       "        -1.23956470e-16, -4.20046491e-17,  2.63295991e-16,\n",
       "         8.17124837e-16, -1.07408215e-16,  1.00000000e+00,\n",
       "        -5.64238290e-17, -1.76857577e-16, -6.27211113e-16,\n",
       "         2.21163105e-16, -1.77560298e-16,  7.16641602e-17,\n",
       "        -2.60246837e-16],\n",
       "       [-6.77530090e-17, -7.67238650e-18,  6.65212642e-17,\n",
       "         2.65464278e-16, -2.23282441e-16,  5.24425982e-17,\n",
       "         1.43632119e-16,  1.94384470e-16, -6.83542034e-17,\n",
       "         1.36892948e-17,  3.39089159e-16, -5.64238290e-17,\n",
       "         1.00000000e+00,  7.18359947e-17,  2.37292147e-16,\n",
       "        -1.59590325e-16,  8.80340367e-17, -9.39820238e-17,\n",
       "        -1.32251180e-17],\n",
       "       [-7.86332827e-17,  8.01013391e-17,  1.64699508e-16,\n",
       "         2.60413604e-16, -1.50745732e-16, -5.70231413e-17,\n",
       "         3.63869806e-17, -1.53965643e-17, -3.86287482e-17,\n",
       "         1.05894352e-16, -1.37022965e-16, -1.76857577e-16,\n",
       "         7.18359947e-17,  1.00000000e+00,  3.36127998e-16,\n",
       "         1.66322149e-16, -4.59720161e-17,  3.37435576e-16,\n",
       "         2.96391395e-16],\n",
       "       [-2.50053209e-17,  4.90819526e-17,  6.27884402e-17,\n",
       "         1.49107859e-17, -1.98172001e-16,  1.40419904e-17,\n",
       "         1.45637874e-16, -1.93837447e-16, -1.44054429e-17,\n",
       "        -1.39862094e-16,  1.85196890e-16, -6.27211113e-16,\n",
       "         2.37292147e-16,  3.36127998e-16,  1.00000000e+00,\n",
       "        -2.73368655e-16, -3.21631112e-17, -8.11514972e-17,\n",
       "         1.41982290e-16],\n",
       "       [-1.86161351e-16,  9.34998045e-17,  1.02935586e-16,\n",
       "        -2.77937870e-16,  4.95479284e-17,  4.23359404e-16,\n",
       "        -3.24712149e-16,  1.19875583e-16,  1.32519888e-16,\n",
       "         2.98446118e-16, -2.15409897e-16,  2.21163105e-16,\n",
       "        -1.59590325e-16,  1.66322149e-16, -2.73368655e-16,\n",
       "         1.00000000e+00, -1.60306058e-16, -4.60998904e-16,\n",
       "         3.69488694e-16],\n",
       "       [ 1.26245636e-17, -7.87980458e-17,  3.09447831e-16,\n",
       "         4.00183123e-17, -1.15392668e-16, -4.12852811e-17,\n",
       "         5.07012279e-16, -7.85608951e-17, -4.16851013e-17,\n",
       "        -2.17966275e-16, -3.11343016e-16, -1.77560298e-16,\n",
       "         8.80340367e-17, -4.59720161e-17, -3.21631112e-17,\n",
       "        -1.60306058e-16,  1.00000000e+00,  1.16517354e-16,\n",
       "        -3.58829618e-17],\n",
       "       [ 1.58090029e-16, -1.36721780e-16, -1.38776752e-16,\n",
       "        -4.60428929e-17,  1.78916535e-16, -1.08392080e-16,\n",
       "        -5.93241899e-17,  3.57049792e-16,  9.49392463e-17,\n",
       "        -4.81696497e-17, -2.77429380e-17,  7.16641602e-17,\n",
       "        -9.39820238e-17,  3.37435576e-16, -8.11514972e-17,\n",
       "        -4.60998904e-16,  1.16517354e-16,  1.00000000e+00,\n",
       "         1.21185031e-16],\n",
       "       [ 8.92085194e-18,  1.01713048e-16,  3.44673450e-16,\n",
       "         2.32591620e-16, -4.47895336e-18,  6.66506113e-17,\n",
       "        -1.32645959e-17, -1.81240478e-16, -2.02952221e-16,\n",
       "         6.22401321e-17, -4.45159625e-17, -2.60246837e-16,\n",
       "        -1.32251180e-17,  2.96391395e-16,  1.41982290e-16,\n",
       "         3.69488694e-16, -3.58829618e-17,  1.21185031e-16,\n",
       "         1.00000000e+00]])"
      ]
     },
     "execution_count": 17,
     "metadata": {},
     "output_type": "execute_result"
    }
   ],
   "source": [
    "pca.components_.T.dot(pca.components_)"
   ]
  },
  {
   "cell_type": "code",
   "execution_count": 18,
   "metadata": {},
   "outputs": [],
   "source": [
    "import matplotlib.pyplot as plt\n",
    "%matplotlib inline\n",
    "plt.style.use(\"ggplot\")"
   ]
  },
  {
   "cell_type": "code",
   "execution_count": 19,
   "metadata": {},
   "outputs": [
    {
     "data": {
      "image/png": "[encoded data removed]",
      "text/plain": [
       "<Figure size 432x288 with 1 Axes>"
      ]
     },
     "metadata": {},
     "output_type": "display_data"
    }
   ],
   "source": [
    "plt.imshow(np.cov(pca.components_.T))\n",
    "plt.show()"
   ]
  },
  {
   "cell_type": "code",
   "execution_count": 20,
   "metadata": {},
   "outputs": [
    {
     "data": {
      "image/png": "[encoded data removed]",
      "text/plain": [
       "<Figure size 432x288 with 1 Axes>"
      ]
     },
     "metadata": {},
     "output_type": "display_data"
    }
   ],
   "source": [
    "# visualize the covariance of transformed feature matrix\n",
    "plt.imshow(np.cov(train_components.T))\n",
    "plt.show()"
   ]
  },
  {
   "cell_type": "markdown",
   "metadata": {},
   "source": [
    "### See how much variance the principal components explain"
   ]
  },
  {
   "cell_type": "code",
   "execution_count": 21,
   "metadata": {},
   "outputs": [
    {
     "data": {
      "text/plain": [
       "Text(0,0.5,'Variance Explained')"
      ]
     },
     "execution_count": 21,
     "metadata": {},
     "output_type": "execute_result"
    },
    {
     "data": {
      "image/png": "[encoded data removed]",
      "text/plain": [
       "<Figure size 432x288 with 1 Axes>"
      ]
     },
     "metadata": {},
     "output_type": "display_data"
    }
   ],
   "source": [
    "pca_range = np.arange(n_col) + 1\n",
    "\n",
    "pca_names = ['PCA_%s' % i for i in pca_range]\n",
    "\n",
    "plt.bar(pca_range, pca.explained_variance_, align='center')\n",
    "\n",
    "xticks = plt.xticks(pca_range, pca_names, rotation=90)\n",
    "\n",
    "plt.ylabel('Variance Explained')"
   ]
  },
  {
   "cell_type": "markdown",
   "metadata": {},
   "source": [
    "### See how much (percentage of) variance the principal components explain"
   ]
  },
  {
   "cell_type": "code",
   "execution_count": 32,
   "metadata": {
    "scrolled": false
   },
   "outputs": [
    {
     "data": {
      "text/plain": [
       "Text(0,0.5,'Proportion of Variance Explained')"
      ]
     },
     "execution_count": 32,
     "metadata": {},
     "output_type": "execute_result"
    },
    {
     "data": {
      "image/png": "[encoded data removed]",
      "text/plain": [
       "<Figure size 432x288 with 1 Axes>"
      ]
     },
     "metadata": {},
     "output_type": "display_data"
    }
   ],
   "source": [
    "pca_range = np.arange(n_col) + 1\n",
    "\n",
    "pca_names = ['PCA_%s' % i for i in pca_range]\n",
    "\n",
    "plt.bar(pca_range, np.cumsum(pca.explained_variance_ratio_), align='center')\n",
    "\n",
    "#划线选取95%的variance需要的PCA的个数\n",
    "\n",
    "plt.plot((1,19),(0.95,0.95),'b--')\n",
    "\n",
    "xticks = plt.xticks(pca_range, pca_names, rotation=90)\n",
    "\n",
    "plt.ylabel('Proportion of Variance Explained')\n",
    "\n"
   ]
  },
  {
   "cell_type": "code",
   "execution_count": null,
   "metadata": {},
   "outputs": [],
   "source": [
    "pca_9=PCA(n_components=9)\n",
    "#这样就可以把PCA选9的用到所有pca里面"
   ]
  },
  {
   "cell_type": "markdown",
   "metadata": {},
   "source": [
    "### See how much (percentage of) variance the principal components explain - horizontal bar chart"
   ]
  },
  {
   "cell_type": "code",
   "execution_count": 23,
   "metadata": {
    "scrolled": true
   },
   "outputs": [
    {
     "data": {
      "text/plain": [
       "Text(0.5,0,'Proportion of Variance Explained')"
      ]
     },
     "execution_count": 23,
     "metadata": {},
     "output_type": "execute_result"
    },
    {
     "data": {
      "image/png": "[encoded data removed]",
      "text/plain": [
       "<Figure size 432x288 with 1 Axes>"
      ]
     },
     "metadata": {},
     "output_type": "display_data"
    }
   ],
   "source": [
    "plt.barh(pca_range, pca.explained_variance_ratio_, align='center')\n",
    "xticks = plt.yticks(pca_range, pca_names)\n",
    "plt.xlabel('Proportion of Variance Explained')"
   ]
  },
  {
   "cell_type": "markdown",
   "metadata": {},
   "source": [
    "### Get train and test error with K-Fold cross validation."
   ]
  },
  {
   "cell_type": "code",
   "execution_count": 24,
   "metadata": {},
   "outputs": [
    {
     "name": "stderr",
     "output_type": "stream",
     "text": [
      "C:\\Users\\blanc\\Anaconda3\\envs\\ipykernel_py2\\lib\\site-packages\\sklearn\\metrics\\scorer.py:100: DeprecationWarning: Scoring method mean_squared_error was renamed to neg_mean_squared_error in version 0.18 and will be removed in 0.20.\n",
      "  sample_weight=sample_weight)\n",
      "C:\\Users\\blanc\\Anaconda3\\envs\\ipykernel_py2\\lib\\site-packages\\sklearn\\metrics\\scorer.py:100: DeprecationWarning: Scoring method mean_squared_error was renamed to neg_mean_squared_error in version 0.18 and will be removed in 0.20.\n",
      "  sample_weight=sample_weight)\n",
      "C:\\Users\\blanc\\Anaconda3\\envs\\ipykernel_py2\\lib\\site-packages\\sklearn\\metrics\\scorer.py:100: DeprecationWarning: Scoring method mean_squared_error was renamed to neg_mean_squared_error in version 0.18 and will be removed in 0.20.\n",
      "  sample_weight=sample_weight)\n",
      "C:\\Users\\blanc\\Anaconda3\\envs\\ipykernel_py2\\lib\\site-packages\\sklearn\\metrics\\scorer.py:100: DeprecationWarning: Scoring method mean_squared_error was renamed to neg_mean_squared_error in version 0.18 and will be removed in 0.20.\n",
      "  sample_weight=sample_weight)\n",
      "C:\\Users\\blanc\\Anaconda3\\envs\\ipykernel_py2\\lib\\site-packages\\sklearn\\metrics\\scorer.py:100: DeprecationWarning: Scoring method mean_squared_error was renamed to neg_mean_squared_error in version 0.18 and will be removed in 0.20.\n",
      "  sample_weight=sample_weight)\n",
      "C:\\Users\\blanc\\Anaconda3\\envs\\ipykernel_py2\\lib\\site-packages\\sklearn\\metrics\\scorer.py:100: DeprecationWarning: Scoring method mean_squared_error was renamed to neg_mean_squared_error in version 0.18 and will be removed in 0.20.\n",
      "  sample_weight=sample_weight)\n",
      "C:\\Users\\blanc\\Anaconda3\\envs\\ipykernel_py2\\lib\\site-packages\\sklearn\\metrics\\scorer.py:100: DeprecationWarning: Scoring method mean_squared_error was renamed to neg_mean_squared_error in version 0.18 and will be removed in 0.20.\n",
      "  sample_weight=sample_weight)\n",
      "C:\\Users\\blanc\\Anaconda3\\envs\\ipykernel_py2\\lib\\site-packages\\sklearn\\metrics\\scorer.py:100: DeprecationWarning: Scoring method mean_squared_error was renamed to neg_mean_squared_error in version 0.18 and will be removed in 0.20.\n",
      "  sample_weight=sample_weight)\n",
      "C:\\Users\\blanc\\Anaconda3\\envs\\ipykernel_py2\\lib\\site-packages\\sklearn\\metrics\\scorer.py:100: DeprecationWarning: Scoring method mean_squared_error was renamed to neg_mean_squared_error in version 0.18 and will be removed in 0.20.\n",
      "  sample_weight=sample_weight)\n",
      "C:\\Users\\blanc\\Anaconda3\\envs\\ipykernel_py2\\lib\\site-packages\\sklearn\\metrics\\scorer.py:100: DeprecationWarning: Scoring method mean_squared_error was renamed to neg_mean_squared_error in version 0.18 and will be removed in 0.20.\n",
      "  sample_weight=sample_weight)\n",
      "C:\\Users\\blanc\\Anaconda3\\envs\\ipykernel_py2\\lib\\site-packages\\sklearn\\metrics\\scorer.py:100: DeprecationWarning: Scoring method mean_squared_error was renamed to neg_mean_squared_error in version 0.18 and will be removed in 0.20.\n",
      "  sample_weight=sample_weight)\n",
      "C:\\Users\\blanc\\Anaconda3\\envs\\ipykernel_py2\\lib\\site-packages\\sklearn\\metrics\\scorer.py:100: DeprecationWarning: Scoring method mean_squared_error was renamed to neg_mean_squared_error in version 0.18 and will be removed in 0.20.\n",
      "  sample_weight=sample_weight)\n",
      "C:\\Users\\blanc\\Anaconda3\\envs\\ipykernel_py2\\lib\\site-packages\\sklearn\\metrics\\scorer.py:100: DeprecationWarning: Scoring method mean_squared_error was renamed to neg_mean_squared_error in version 0.18 and will be removed in 0.20.\n",
      "  sample_weight=sample_weight)\n",
      "C:\\Users\\blanc\\Anaconda3\\envs\\ipykernel_py2\\lib\\site-packages\\sklearn\\metrics\\scorer.py:100: DeprecationWarning: Scoring method mean_squared_error was renamed to neg_mean_squared_error in version 0.18 and will be removed in 0.20.\n",
      "  sample_weight=sample_weight)\n",
      "C:\\Users\\blanc\\Anaconda3\\envs\\ipykernel_py2\\lib\\site-packages\\sklearn\\metrics\\scorer.py:100: DeprecationWarning: Scoring method mean_squared_error was renamed to neg_mean_squared_error in version 0.18 and will be removed in 0.20.\n",
      "  sample_weight=sample_weight)\n",
      "C:\\Users\\blanc\\Anaconda3\\envs\\ipykernel_py2\\lib\\site-packages\\sklearn\\metrics\\scorer.py:100: DeprecationWarning: Scoring method mean_squared_error was renamed to neg_mean_squared_error in version 0.18 and will be removed in 0.20.\n",
      "  sample_weight=sample_weight)\n",
      "C:\\Users\\blanc\\Anaconda3\\envs\\ipykernel_py2\\lib\\site-packages\\sklearn\\metrics\\scorer.py:100: DeprecationWarning: Scoring method mean_squared_error was renamed to neg_mean_squared_error in version 0.18 and will be removed in 0.20.\n",
      "  sample_weight=sample_weight)\n",
      "C:\\Users\\blanc\\Anaconda3\\envs\\ipykernel_py2\\lib\\site-packages\\sklearn\\metrics\\scorer.py:100: DeprecationWarning: Scoring method mean_squared_error was renamed to neg_mean_squared_error in version 0.18 and will be removed in 0.20.\n",
      "  sample_weight=sample_weight)\n",
      "C:\\Users\\blanc\\Anaconda3\\envs\\ipykernel_py2\\lib\\site-packages\\sklearn\\metrics\\scorer.py:100: DeprecationWarning: Scoring method mean_squared_error was renamed to neg_mean_squared_error in version 0.18 and will be removed in 0.20.\n",
      "  sample_weight=sample_weight)\n",
      "C:\\Users\\blanc\\Anaconda3\\envs\\ipykernel_py2\\lib\\site-packages\\sklearn\\metrics\\scorer.py:100: DeprecationWarning: Scoring method mean_squared_error was renamed to neg_mean_squared_error in version 0.18 and will be removed in 0.20.\n",
      "  sample_weight=sample_weight)\n",
      "C:\\Users\\blanc\\Anaconda3\\envs\\ipykernel_py2\\lib\\site-packages\\sklearn\\metrics\\scorer.py:100: DeprecationWarning: Scoring method mean_squared_error was renamed to neg_mean_squared_error in version 0.18 and will be removed in 0.20.\n",
      "  sample_weight=sample_weight)\n",
      "C:\\Users\\blanc\\Anaconda3\\envs\\ipykernel_py2\\lib\\site-packages\\sklearn\\metrics\\scorer.py:100: DeprecationWarning: Scoring method mean_squared_error was renamed to neg_mean_squared_error in version 0.18 and will be removed in 0.20.\n",
      "  sample_weight=sample_weight)\n",
      "C:\\Users\\blanc\\Anaconda3\\envs\\ipykernel_py2\\lib\\site-packages\\sklearn\\metrics\\scorer.py:100: DeprecationWarning: Scoring method mean_squared_error was renamed to neg_mean_squared_error in version 0.18 and will be removed in 0.20.\n",
      "  sample_weight=sample_weight)\n",
      "C:\\Users\\blanc\\Anaconda3\\envs\\ipykernel_py2\\lib\\site-packages\\sklearn\\metrics\\scorer.py:100: DeprecationWarning: Scoring method mean_squared_error was renamed to neg_mean_squared_error in version 0.18 and will be removed in 0.20.\n",
      "  sample_weight=sample_weight)\n",
      "C:\\Users\\blanc\\Anaconda3\\envs\\ipykernel_py2\\lib\\site-packages\\sklearn\\metrics\\scorer.py:100: DeprecationWarning: Scoring method mean_squared_error was renamed to neg_mean_squared_error in version 0.18 and will be removed in 0.20.\n",
      "  sample_weight=sample_weight)\n",
      "C:\\Users\\blanc\\Anaconda3\\envs\\ipykernel_py2\\lib\\site-packages\\sklearn\\metrics\\scorer.py:100: DeprecationWarning: Scoring method mean_squared_error was renamed to neg_mean_squared_error in version 0.18 and will be removed in 0.20.\n",
      "  sample_weight=sample_weight)\n",
      "C:\\Users\\blanc\\Anaconda3\\envs\\ipykernel_py2\\lib\\site-packages\\sklearn\\metrics\\scorer.py:100: DeprecationWarning: Scoring method mean_squared_error was renamed to neg_mean_squared_error in version 0.18 and will be removed in 0.20.\n",
      "  sample_weight=sample_weight)\n",
      "C:\\Users\\blanc\\Anaconda3\\envs\\ipykernel_py2\\lib\\site-packages\\sklearn\\metrics\\scorer.py:100: DeprecationWarning: Scoring method mean_squared_error was renamed to neg_mean_squared_error in version 0.18 and will be removed in 0.20.\n",
      "  sample_weight=sample_weight)\n",
      "C:\\Users\\blanc\\Anaconda3\\envs\\ipykernel_py2\\lib\\site-packages\\sklearn\\metrics\\scorer.py:100: DeprecationWarning: Scoring method mean_squared_error was renamed to neg_mean_squared_error in version 0.18 and will be removed in 0.20.\n",
      "  sample_weight=sample_weight)\n",
      "C:\\Users\\blanc\\Anaconda3\\envs\\ipykernel_py2\\lib\\site-packages\\sklearn\\metrics\\scorer.py:100: DeprecationWarning: Scoring method mean_squared_error was renamed to neg_mean_squared_error in version 0.18 and will be removed in 0.20.\n",
      "  sample_weight=sample_weight)\n",
      "C:\\Users\\blanc\\Anaconda3\\envs\\ipykernel_py2\\lib\\site-packages\\sklearn\\metrics\\scorer.py:100: DeprecationWarning: Scoring method mean_squared_error was renamed to neg_mean_squared_error in version 0.18 and will be removed in 0.20.\n",
      "  sample_weight=sample_weight)\n",
      "C:\\Users\\blanc\\Anaconda3\\envs\\ipykernel_py2\\lib\\site-packages\\sklearn\\metrics\\scorer.py:100: DeprecationWarning: Scoring method mean_squared_error was renamed to neg_mean_squared_error in version 0.18 and will be removed in 0.20.\n",
      "  sample_weight=sample_weight)\n",
      "C:\\Users\\blanc\\Anaconda3\\envs\\ipykernel_py2\\lib\\site-packages\\sklearn\\metrics\\scorer.py:100: DeprecationWarning: Scoring method mean_squared_error was renamed to neg_mean_squared_error in version 0.18 and will be removed in 0.20.\n",
      "  sample_weight=sample_weight)\n",
      "C:\\Users\\blanc\\Anaconda3\\envs\\ipykernel_py2\\lib\\site-packages\\sklearn\\metrics\\scorer.py:100: DeprecationWarning: Scoring method mean_squared_error was renamed to neg_mean_squared_error in version 0.18 and will be removed in 0.20.\n",
      "  sample_weight=sample_weight)\n",
      "C:\\Users\\blanc\\Anaconda3\\envs\\ipykernel_py2\\lib\\site-packages\\sklearn\\metrics\\scorer.py:100: DeprecationWarning: Scoring method mean_squared_error was renamed to neg_mean_squared_error in version 0.18 and will be removed in 0.20.\n",
      "  sample_weight=sample_weight)\n",
      "C:\\Users\\blanc\\Anaconda3\\envs\\ipykernel_py2\\lib\\site-packages\\sklearn\\metrics\\scorer.py:100: DeprecationWarning: Scoring method mean_squared_error was renamed to neg_mean_squared_error in version 0.18 and will be removed in 0.20.\n",
      "  sample_weight=sample_weight)\n",
      "C:\\Users\\blanc\\Anaconda3\\envs\\ipykernel_py2\\lib\\site-packages\\sklearn\\metrics\\scorer.py:100: DeprecationWarning: Scoring method mean_squared_error was renamed to neg_mean_squared_error in version 0.18 and will be removed in 0.20.\n",
      "  sample_weight=sample_weight)\n",
      "C:\\Users\\blanc\\Anaconda3\\envs\\ipykernel_py2\\lib\\site-packages\\sklearn\\metrics\\scorer.py:100: DeprecationWarning: Scoring method mean_squared_error was renamed to neg_mean_squared_error in version 0.18 and will be removed in 0.20.\n",
      "  sample_weight=sample_weight)\n",
      "C:\\Users\\blanc\\Anaconda3\\envs\\ipykernel_py2\\lib\\site-packages\\sklearn\\metrics\\scorer.py:100: DeprecationWarning: Scoring method mean_squared_error was renamed to neg_mean_squared_error in version 0.18 and will be removed in 0.20.\n",
      "  sample_weight=sample_weight)\n",
      "C:\\Users\\blanc\\Anaconda3\\envs\\ipykernel_py2\\lib\\site-packages\\sklearn\\metrics\\scorer.py:100: DeprecationWarning: Scoring method mean_squared_error was renamed to neg_mean_squared_error in version 0.18 and will be removed in 0.20.\n",
      "  sample_weight=sample_weight)\n",
      "C:\\Users\\blanc\\Anaconda3\\envs\\ipykernel_py2\\lib\\site-packages\\sklearn\\metrics\\scorer.py:100: DeprecationWarning: Scoring method mean_squared_error was renamed to neg_mean_squared_error in version 0.18 and will be removed in 0.20.\n",
      "  sample_weight=sample_weight)\n",
      "C:\\Users\\blanc\\Anaconda3\\envs\\ipykernel_py2\\lib\\site-packages\\sklearn\\metrics\\scorer.py:100: DeprecationWarning: Scoring method mean_squared_error was renamed to neg_mean_squared_error in version 0.18 and will be removed in 0.20.\n",
      "  sample_weight=sample_weight)\n",
      "C:\\Users\\blanc\\Anaconda3\\envs\\ipykernel_py2\\lib\\site-packages\\sklearn\\metrics\\scorer.py:100: DeprecationWarning: Scoring method mean_squared_error was renamed to neg_mean_squared_error in version 0.18 and will be removed in 0.20.\n",
      "  sample_weight=sample_weight)\n",
      "C:\\Users\\blanc\\Anaconda3\\envs\\ipykernel_py2\\lib\\site-packages\\sklearn\\metrics\\scorer.py:100: DeprecationWarning: Scoring method mean_squared_error was renamed to neg_mean_squared_error in version 0.18 and will be removed in 0.20.\n",
      "  sample_weight=sample_weight)\n",
      "C:\\Users\\blanc\\Anaconda3\\envs\\ipykernel_py2\\lib\\site-packages\\sklearn\\metrics\\scorer.py:100: DeprecationWarning: Scoring method mean_squared_error was renamed to neg_mean_squared_error in version 0.18 and will be removed in 0.20.\n",
      "  sample_weight=sample_weight)\n",
      "C:\\Users\\blanc\\Anaconda3\\envs\\ipykernel_py2\\lib\\site-packages\\sklearn\\metrics\\scorer.py:100: DeprecationWarning: Scoring method mean_squared_error was renamed to neg_mean_squared_error in version 0.18 and will be removed in 0.20.\n",
      "  sample_weight=sample_weight)\n",
      "C:\\Users\\blanc\\Anaconda3\\envs\\ipykernel_py2\\lib\\site-packages\\sklearn\\metrics\\scorer.py:100: DeprecationWarning: Scoring method mean_squared_error was renamed to neg_mean_squared_error in version 0.18 and will be removed in 0.20.\n",
      "  sample_weight=sample_weight)\n",
      "C:\\Users\\blanc\\Anaconda3\\envs\\ipykernel_py2\\lib\\site-packages\\sklearn\\metrics\\scorer.py:100: DeprecationWarning: Scoring method mean_squared_error was renamed to neg_mean_squared_error in version 0.18 and will be removed in 0.20.\n",
      "  sample_weight=sample_weight)\n",
      "C:\\Users\\blanc\\Anaconda3\\envs\\ipykernel_py2\\lib\\site-packages\\sklearn\\metrics\\scorer.py:100: DeprecationWarning: Scoring method mean_squared_error was renamed to neg_mean_squared_error in version 0.18 and will be removed in 0.20.\n",
      "  sample_weight=sample_weight)\n",
      "C:\\Users\\blanc\\Anaconda3\\envs\\ipykernel_py2\\lib\\site-packages\\sklearn\\metrics\\scorer.py:100: DeprecationWarning: Scoring method mean_squared_error was renamed to neg_mean_squared_error in version 0.18 and will be removed in 0.20.\n",
      "  sample_weight=sample_weight)\n",
      "C:\\Users\\blanc\\Anaconda3\\envs\\ipykernel_py2\\lib\\site-packages\\sklearn\\metrics\\scorer.py:100: DeprecationWarning: Scoring method mean_squared_error was renamed to neg_mean_squared_error in version 0.18 and will be removed in 0.20.\n",
      "  sample_weight=sample_weight)\n",
      "C:\\Users\\blanc\\Anaconda3\\envs\\ipykernel_py2\\lib\\site-packages\\sklearn\\metrics\\scorer.py:100: DeprecationWarning: Scoring method mean_squared_error was renamed to neg_mean_squared_error in version 0.18 and will be removed in 0.20.\n",
      "  sample_weight=sample_weight)\n",
      "C:\\Users\\blanc\\Anaconda3\\envs\\ipykernel_py2\\lib\\site-packages\\sklearn\\metrics\\scorer.py:100: DeprecationWarning: Scoring method mean_squared_error was renamed to neg_mean_squared_error in version 0.18 and will be removed in 0.20.\n",
      "  sample_weight=sample_weight)\n",
      "C:\\Users\\blanc\\Anaconda3\\envs\\ipykernel_py2\\lib\\site-packages\\sklearn\\metrics\\scorer.py:100: DeprecationWarning: Scoring method mean_squared_error was renamed to neg_mean_squared_error in version 0.18 and will be removed in 0.20.\n",
      "  sample_weight=sample_weight)\n",
      "C:\\Users\\blanc\\Anaconda3\\envs\\ipykernel_py2\\lib\\site-packages\\sklearn\\metrics\\scorer.py:100: DeprecationWarning: Scoring method mean_squared_error was renamed to neg_mean_squared_error in version 0.18 and will be removed in 0.20.\n",
      "  sample_weight=sample_weight)\n",
      "C:\\Users\\blanc\\Anaconda3\\envs\\ipykernel_py2\\lib\\site-packages\\sklearn\\metrics\\scorer.py:100: DeprecationWarning: Scoring method mean_squared_error was renamed to neg_mean_squared_error in version 0.18 and will be removed in 0.20.\n",
      "  sample_weight=sample_weight)\n",
      "C:\\Users\\blanc\\Anaconda3\\envs\\ipykernel_py2\\lib\\site-packages\\sklearn\\metrics\\scorer.py:100: DeprecationWarning: Scoring method mean_squared_error was renamed to neg_mean_squared_error in version 0.18 and will be removed in 0.20.\n",
      "  sample_weight=sample_weight)\n",
      "C:\\Users\\blanc\\Anaconda3\\envs\\ipykernel_py2\\lib\\site-packages\\sklearn\\metrics\\scorer.py:100: DeprecationWarning: Scoring method mean_squared_error was renamed to neg_mean_squared_error in version 0.18 and will be removed in 0.20.\n",
      "  sample_weight=sample_weight)\n",
      "C:\\Users\\blanc\\Anaconda3\\envs\\ipykernel_py2\\lib\\site-packages\\sklearn\\metrics\\scorer.py:100: DeprecationWarning: Scoring method mean_squared_error was renamed to neg_mean_squared_error in version 0.18 and will be removed in 0.20.\n",
      "  sample_weight=sample_weight)\n",
      "C:\\Users\\blanc\\Anaconda3\\envs\\ipykernel_py2\\lib\\site-packages\\sklearn\\metrics\\scorer.py:100: DeprecationWarning: Scoring method mean_squared_error was renamed to neg_mean_squared_error in version 0.18 and will be removed in 0.20.\n",
      "  sample_weight=sample_weight)\n",
      "C:\\Users\\blanc\\Anaconda3\\envs\\ipykernel_py2\\lib\\site-packages\\sklearn\\metrics\\scorer.py:100: DeprecationWarning: Scoring method mean_squared_error was renamed to neg_mean_squared_error in version 0.18 and will be removed in 0.20.\n",
      "  sample_weight=sample_weight)\n",
      "C:\\Users\\blanc\\Anaconda3\\envs\\ipykernel_py2\\lib\\site-packages\\sklearn\\metrics\\scorer.py:100: DeprecationWarning: Scoring method mean_squared_error was renamed to neg_mean_squared_error in version 0.18 and will be removed in 0.20.\n",
      "  sample_weight=sample_weight)\n",
      "C:\\Users\\blanc\\Anaconda3\\envs\\ipykernel_py2\\lib\\site-packages\\sklearn\\metrics\\scorer.py:100: DeprecationWarning: Scoring method mean_squared_error was renamed to neg_mean_squared_error in version 0.18 and will be removed in 0.20.\n",
      "  sample_weight=sample_weight)\n",
      "C:\\Users\\blanc\\Anaconda3\\envs\\ipykernel_py2\\lib\\site-packages\\sklearn\\metrics\\scorer.py:100: DeprecationWarning: Scoring method mean_squared_error was renamed to neg_mean_squared_error in version 0.18 and will be removed in 0.20.\n",
      "  sample_weight=sample_weight)\n",
      "C:\\Users\\blanc\\Anaconda3\\envs\\ipykernel_py2\\lib\\site-packages\\sklearn\\metrics\\scorer.py:100: DeprecationWarning: Scoring method mean_squared_error was renamed to neg_mean_squared_error in version 0.18 and will be removed in 0.20.\n",
      "  sample_weight=sample_weight)\n",
      "C:\\Users\\blanc\\Anaconda3\\envs\\ipykernel_py2\\lib\\site-packages\\sklearn\\metrics\\scorer.py:100: DeprecationWarning: Scoring method mean_squared_error was renamed to neg_mean_squared_error in version 0.18 and will be removed in 0.20.\n",
      "  sample_weight=sample_weight)\n",
      "C:\\Users\\blanc\\Anaconda3\\envs\\ipykernel_py2\\lib\\site-packages\\sklearn\\metrics\\scorer.py:100: DeprecationWarning: Scoring method mean_squared_error was renamed to neg_mean_squared_error in version 0.18 and will be removed in 0.20.\n",
      "  sample_weight=sample_weight)\n",
      "C:\\Users\\blanc\\Anaconda3\\envs\\ipykernel_py2\\lib\\site-packages\\sklearn\\metrics\\scorer.py:100: DeprecationWarning: Scoring method mean_squared_error was renamed to neg_mean_squared_error in version 0.18 and will be removed in 0.20.\n",
      "  sample_weight=sample_weight)\n",
      "C:\\Users\\blanc\\Anaconda3\\envs\\ipykernel_py2\\lib\\site-packages\\sklearn\\metrics\\scorer.py:100: DeprecationWarning: Scoring method mean_squared_error was renamed to neg_mean_squared_error in version 0.18 and will be removed in 0.20.\n",
      "  sample_weight=sample_weight)\n",
      "C:\\Users\\blanc\\Anaconda3\\envs\\ipykernel_py2\\lib\\site-packages\\sklearn\\metrics\\scorer.py:100: DeprecationWarning: Scoring method mean_squared_error was renamed to neg_mean_squared_error in version 0.18 and will be removed in 0.20.\n",
      "  sample_weight=sample_weight)\n",
      "C:\\Users\\blanc\\Anaconda3\\envs\\ipykernel_py2\\lib\\site-packages\\sklearn\\metrics\\scorer.py:100: DeprecationWarning: Scoring method mean_squared_error was renamed to neg_mean_squared_error in version 0.18 and will be removed in 0.20.\n",
      "  sample_weight=sample_weight)\n",
      "C:\\Users\\blanc\\Anaconda3\\envs\\ipykernel_py2\\lib\\site-packages\\sklearn\\metrics\\scorer.py:100: DeprecationWarning: Scoring method mean_squared_error was renamed to neg_mean_squared_error in version 0.18 and will be removed in 0.20.\n",
      "  sample_weight=sample_weight)\n",
      "C:\\Users\\blanc\\Anaconda3\\envs\\ipykernel_py2\\lib\\site-packages\\sklearn\\metrics\\scorer.py:100: DeprecationWarning: Scoring method mean_squared_error was renamed to neg_mean_squared_error in version 0.18 and will be removed in 0.20.\n",
      "  sample_weight=sample_weight)\n",
      "C:\\Users\\blanc\\Anaconda3\\envs\\ipykernel_py2\\lib\\site-packages\\sklearn\\metrics\\scorer.py:100: DeprecationWarning: Scoring method mean_squared_error was renamed to neg_mean_squared_error in version 0.18 and will be removed in 0.20.\n",
      "  sample_weight=sample_weight)\n",
      "C:\\Users\\blanc\\Anaconda3\\envs\\ipykernel_py2\\lib\\site-packages\\sklearn\\metrics\\scorer.py:100: DeprecationWarning: Scoring method mean_squared_error was renamed to neg_mean_squared_error in version 0.18 and will be removed in 0.20.\n",
      "  sample_weight=sample_weight)\n",
      "C:\\Users\\blanc\\Anaconda3\\envs\\ipykernel_py2\\lib\\site-packages\\sklearn\\metrics\\scorer.py:100: DeprecationWarning: Scoring method mean_squared_error was renamed to neg_mean_squared_error in version 0.18 and will be removed in 0.20.\n",
      "  sample_weight=sample_weight)\n",
      "C:\\Users\\blanc\\Anaconda3\\envs\\ipykernel_py2\\lib\\site-packages\\sklearn\\metrics\\scorer.py:100: DeprecationWarning: Scoring method mean_squared_error was renamed to neg_mean_squared_error in version 0.18 and will be removed in 0.20.\n",
      "  sample_weight=sample_weight)\n",
      "C:\\Users\\blanc\\Anaconda3\\envs\\ipykernel_py2\\lib\\site-packages\\sklearn\\metrics\\scorer.py:100: DeprecationWarning: Scoring method mean_squared_error was renamed to neg_mean_squared_error in version 0.18 and will be removed in 0.20.\n",
      "  sample_weight=sample_weight)\n",
      "C:\\Users\\blanc\\Anaconda3\\envs\\ipykernel_py2\\lib\\site-packages\\sklearn\\metrics\\scorer.py:100: DeprecationWarning: Scoring method mean_squared_error was renamed to neg_mean_squared_error in version 0.18 and will be removed in 0.20.\n",
      "  sample_weight=sample_weight)\n",
      "C:\\Users\\blanc\\Anaconda3\\envs\\ipykernel_py2\\lib\\site-packages\\sklearn\\metrics\\scorer.py:100: DeprecationWarning: Scoring method mean_squared_error was renamed to neg_mean_squared_error in version 0.18 and will be removed in 0.20.\n",
      "  sample_weight=sample_weight)\n",
      "C:\\Users\\blanc\\Anaconda3\\envs\\ipykernel_py2\\lib\\site-packages\\sklearn\\metrics\\scorer.py:100: DeprecationWarning: Scoring method mean_squared_error was renamed to neg_mean_squared_error in version 0.18 and will be removed in 0.20.\n",
      "  sample_weight=sample_weight)\n",
      "C:\\Users\\blanc\\Anaconda3\\envs\\ipykernel_py2\\lib\\site-packages\\sklearn\\metrics\\scorer.py:100: DeprecationWarning: Scoring method mean_squared_error was renamed to neg_mean_squared_error in version 0.18 and will be removed in 0.20.\n",
      "  sample_weight=sample_weight)\n",
      "C:\\Users\\blanc\\Anaconda3\\envs\\ipykernel_py2\\lib\\site-packages\\sklearn\\metrics\\scorer.py:100: DeprecationWarning: Scoring method mean_squared_error was renamed to neg_mean_squared_error in version 0.18 and will be removed in 0.20.\n",
      "  sample_weight=sample_weight)\n",
      "C:\\Users\\blanc\\Anaconda3\\envs\\ipykernel_py2\\lib\\site-packages\\sklearn\\metrics\\scorer.py:100: DeprecationWarning: Scoring method mean_squared_error was renamed to neg_mean_squared_error in version 0.18 and will be removed in 0.20.\n",
      "  sample_weight=sample_weight)\n",
      "C:\\Users\\blanc\\Anaconda3\\envs\\ipykernel_py2\\lib\\site-packages\\sklearn\\metrics\\scorer.py:100: DeprecationWarning: Scoring method mean_squared_error was renamed to neg_mean_squared_error in version 0.18 and will be removed in 0.20.\n",
      "  sample_weight=sample_weight)\n",
      "C:\\Users\\blanc\\Anaconda3\\envs\\ipykernel_py2\\lib\\site-packages\\sklearn\\metrics\\scorer.py:100: DeprecationWarning: Scoring method mean_squared_error was renamed to neg_mean_squared_error in version 0.18 and will be removed in 0.20.\n",
      "  sample_weight=sample_weight)\n",
      "C:\\Users\\blanc\\Anaconda3\\envs\\ipykernel_py2\\lib\\site-packages\\sklearn\\metrics\\scorer.py:100: DeprecationWarning: Scoring method mean_squared_error was renamed to neg_mean_squared_error in version 0.18 and will be removed in 0.20.\n",
      "  sample_weight=sample_weight)\n",
      "C:\\Users\\blanc\\Anaconda3\\envs\\ipykernel_py2\\lib\\site-packages\\sklearn\\metrics\\scorer.py:100: DeprecationWarning: Scoring method mean_squared_error was renamed to neg_mean_squared_error in version 0.18 and will be removed in 0.20.\n",
      "  sample_weight=sample_weight)\n",
      "C:\\Users\\blanc\\Anaconda3\\envs\\ipykernel_py2\\lib\\site-packages\\sklearn\\metrics\\scorer.py:100: DeprecationWarning: Scoring method mean_squared_error was renamed to neg_mean_squared_error in version 0.18 and will be removed in 0.20.\n",
      "  sample_weight=sample_weight)\n",
      "C:\\Users\\blanc\\Anaconda3\\envs\\ipykernel_py2\\lib\\site-packages\\sklearn\\metrics\\scorer.py:100: DeprecationWarning: Scoring method mean_squared_error was renamed to neg_mean_squared_error in version 0.18 and will be removed in 0.20.\n",
      "  sample_weight=sample_weight)\n",
      "C:\\Users\\blanc\\Anaconda3\\envs\\ipykernel_py2\\lib\\site-packages\\sklearn\\metrics\\scorer.py:100: DeprecationWarning: Scoring method mean_squared_error was renamed to neg_mean_squared_error in version 0.18 and will be removed in 0.20.\n",
      "  sample_weight=sample_weight)\n",
      "C:\\Users\\blanc\\Anaconda3\\envs\\ipykernel_py2\\lib\\site-packages\\sklearn\\metrics\\scorer.py:100: DeprecationWarning: Scoring method mean_squared_error was renamed to neg_mean_squared_error in version 0.18 and will be removed in 0.20.\n",
      "  sample_weight=sample_weight)\n",
      "C:\\Users\\blanc\\Anaconda3\\envs\\ipykernel_py2\\lib\\site-packages\\sklearn\\metrics\\scorer.py:100: DeprecationWarning: Scoring method mean_squared_error was renamed to neg_mean_squared_error in version 0.18 and will be removed in 0.20.\n",
      "  sample_weight=sample_weight)\n",
      "C:\\Users\\blanc\\Anaconda3\\envs\\ipykernel_py2\\lib\\site-packages\\sklearn\\metrics\\scorer.py:100: DeprecationWarning: Scoring method mean_squared_error was renamed to neg_mean_squared_error in version 0.18 and will be removed in 0.20.\n",
      "  sample_weight=sample_weight)\n",
      "C:\\Users\\blanc\\Anaconda3\\envs\\ipykernel_py2\\lib\\site-packages\\sklearn\\metrics\\scorer.py:100: DeprecationWarning: Scoring method mean_squared_error was renamed to neg_mean_squared_error in version 0.18 and will be removed in 0.20.\n",
      "  sample_weight=sample_weight)\n",
      "C:\\Users\\blanc\\Anaconda3\\envs\\ipykernel_py2\\lib\\site-packages\\sklearn\\metrics\\scorer.py:100: DeprecationWarning: Scoring method mean_squared_error was renamed to neg_mean_squared_error in version 0.18 and will be removed in 0.20.\n",
      "  sample_weight=sample_weight)\n",
      "C:\\Users\\blanc\\Anaconda3\\envs\\ipykernel_py2\\lib\\site-packages\\sklearn\\metrics\\scorer.py:100: DeprecationWarning: Scoring method mean_squared_error was renamed to neg_mean_squared_error in version 0.18 and will be removed in 0.20.\n",
      "  sample_weight=sample_weight)\n",
      "C:\\Users\\blanc\\Anaconda3\\envs\\ipykernel_py2\\lib\\site-packages\\sklearn\\metrics\\scorer.py:100: DeprecationWarning: Scoring method mean_squared_error was renamed to neg_mean_squared_error in version 0.18 and will be removed in 0.20.\n",
      "  sample_weight=sample_weight)\n"
     ]
    },
    {
     "name": "stderr",
     "output_type": "stream",
     "text": [
      "C:\\Users\\blanc\\Anaconda3\\envs\\ipykernel_py2\\lib\\site-packages\\sklearn\\metrics\\scorer.py:100: DeprecationWarning: Scoring method mean_squared_error was renamed to neg_mean_squared_error in version 0.18 and will be removed in 0.20.\n",
      "  sample_weight=sample_weight)\n",
      "C:\\Users\\blanc\\Anaconda3\\envs\\ipykernel_py2\\lib\\site-packages\\sklearn\\metrics\\scorer.py:100: DeprecationWarning: Scoring method mean_squared_error was renamed to neg_mean_squared_error in version 0.18 and will be removed in 0.20.\n",
      "  sample_weight=sample_weight)\n",
      "C:\\Users\\blanc\\Anaconda3\\envs\\ipykernel_py2\\lib\\site-packages\\sklearn\\metrics\\scorer.py:100: DeprecationWarning: Scoring method mean_squared_error was renamed to neg_mean_squared_error in version 0.18 and will be removed in 0.20.\n",
      "  sample_weight=sample_weight)\n",
      "C:\\Users\\blanc\\Anaconda3\\envs\\ipykernel_py2\\lib\\site-packages\\sklearn\\metrics\\scorer.py:100: DeprecationWarning: Scoring method mean_squared_error was renamed to neg_mean_squared_error in version 0.18 and will be removed in 0.20.\n",
      "  sample_weight=sample_weight)\n",
      "C:\\Users\\blanc\\Anaconda3\\envs\\ipykernel_py2\\lib\\site-packages\\sklearn\\metrics\\scorer.py:100: DeprecationWarning: Scoring method mean_squared_error was renamed to neg_mean_squared_error in version 0.18 and will be removed in 0.20.\n",
      "  sample_weight=sample_weight)\n",
      "C:\\Users\\blanc\\Anaconda3\\envs\\ipykernel_py2\\lib\\site-packages\\sklearn\\metrics\\scorer.py:100: DeprecationWarning: Scoring method mean_squared_error was renamed to neg_mean_squared_error in version 0.18 and will be removed in 0.20.\n",
      "  sample_weight=sample_weight)\n",
      "C:\\Users\\blanc\\Anaconda3\\envs\\ipykernel_py2\\lib\\site-packages\\sklearn\\metrics\\scorer.py:100: DeprecationWarning: Scoring method mean_squared_error was renamed to neg_mean_squared_error in version 0.18 and will be removed in 0.20.\n",
      "  sample_weight=sample_weight)\n",
      "C:\\Users\\blanc\\Anaconda3\\envs\\ipykernel_py2\\lib\\site-packages\\sklearn\\metrics\\scorer.py:100: DeprecationWarning: Scoring method mean_squared_error was renamed to neg_mean_squared_error in version 0.18 and will be removed in 0.20.\n",
      "  sample_weight=sample_weight)\n",
      "C:\\Users\\blanc\\Anaconda3\\envs\\ipykernel_py2\\lib\\site-packages\\sklearn\\metrics\\scorer.py:100: DeprecationWarning: Scoring method mean_squared_error was renamed to neg_mean_squared_error in version 0.18 and will be removed in 0.20.\n",
      "  sample_weight=sample_weight)\n",
      "C:\\Users\\blanc\\Anaconda3\\envs\\ipykernel_py2\\lib\\site-packages\\sklearn\\metrics\\scorer.py:100: DeprecationWarning: Scoring method mean_squared_error was renamed to neg_mean_squared_error in version 0.18 and will be removed in 0.20.\n",
      "  sample_weight=sample_weight)\n",
      "C:\\Users\\blanc\\Anaconda3\\envs\\ipykernel_py2\\lib\\site-packages\\sklearn\\metrics\\scorer.py:100: DeprecationWarning: Scoring method mean_squared_error was renamed to neg_mean_squared_error in version 0.18 and will be removed in 0.20.\n",
      "  sample_weight=sample_weight)\n",
      "C:\\Users\\blanc\\Anaconda3\\envs\\ipykernel_py2\\lib\\site-packages\\sklearn\\metrics\\scorer.py:100: DeprecationWarning: Scoring method mean_squared_error was renamed to neg_mean_squared_error in version 0.18 and will be removed in 0.20.\n",
      "  sample_weight=sample_weight)\n",
      "C:\\Users\\blanc\\Anaconda3\\envs\\ipykernel_py2\\lib\\site-packages\\sklearn\\metrics\\scorer.py:100: DeprecationWarning: Scoring method mean_squared_error was renamed to neg_mean_squared_error in version 0.18 and will be removed in 0.20.\n",
      "  sample_weight=sample_weight)\n",
      "C:\\Users\\blanc\\Anaconda3\\envs\\ipykernel_py2\\lib\\site-packages\\sklearn\\metrics\\scorer.py:100: DeprecationWarning: Scoring method mean_squared_error was renamed to neg_mean_squared_error in version 0.18 and will be removed in 0.20.\n",
      "  sample_weight=sample_weight)\n",
      "C:\\Users\\blanc\\Anaconda3\\envs\\ipykernel_py2\\lib\\site-packages\\sklearn\\metrics\\scorer.py:100: DeprecationWarning: Scoring method mean_squared_error was renamed to neg_mean_squared_error in version 0.18 and will be removed in 0.20.\n",
      "  sample_weight=sample_weight)\n",
      "C:\\Users\\blanc\\Anaconda3\\envs\\ipykernel_py2\\lib\\site-packages\\sklearn\\metrics\\scorer.py:100: DeprecationWarning: Scoring method mean_squared_error was renamed to neg_mean_squared_error in version 0.18 and will be removed in 0.20.\n",
      "  sample_weight=sample_weight)\n",
      "C:\\Users\\blanc\\Anaconda3\\envs\\ipykernel_py2\\lib\\site-packages\\sklearn\\metrics\\scorer.py:100: DeprecationWarning: Scoring method mean_squared_error was renamed to neg_mean_squared_error in version 0.18 and will be removed in 0.20.\n",
      "  sample_weight=sample_weight)\n",
      "C:\\Users\\blanc\\Anaconda3\\envs\\ipykernel_py2\\lib\\site-packages\\sklearn\\metrics\\scorer.py:100: DeprecationWarning: Scoring method mean_squared_error was renamed to neg_mean_squared_error in version 0.18 and will be removed in 0.20.\n",
      "  sample_weight=sample_weight)\n",
      "C:\\Users\\blanc\\Anaconda3\\envs\\ipykernel_py2\\lib\\site-packages\\sklearn\\metrics\\scorer.py:100: DeprecationWarning: Scoring method mean_squared_error was renamed to neg_mean_squared_error in version 0.18 and will be removed in 0.20.\n",
      "  sample_weight=sample_weight)\n",
      "C:\\Users\\blanc\\Anaconda3\\envs\\ipykernel_py2\\lib\\site-packages\\sklearn\\metrics\\scorer.py:100: DeprecationWarning: Scoring method mean_squared_error was renamed to neg_mean_squared_error in version 0.18 and will be removed in 0.20.\n",
      "  sample_weight=sample_weight)\n",
      "C:\\Users\\blanc\\Anaconda3\\envs\\ipykernel_py2\\lib\\site-packages\\sklearn\\metrics\\scorer.py:100: DeprecationWarning: Scoring method mean_squared_error was renamed to neg_mean_squared_error in version 0.18 and will be removed in 0.20.\n",
      "  sample_weight=sample_weight)\n",
      "C:\\Users\\blanc\\Anaconda3\\envs\\ipykernel_py2\\lib\\site-packages\\sklearn\\metrics\\scorer.py:100: DeprecationWarning: Scoring method mean_squared_error was renamed to neg_mean_squared_error in version 0.18 and will be removed in 0.20.\n",
      "  sample_weight=sample_weight)\n",
      "C:\\Users\\blanc\\Anaconda3\\envs\\ipykernel_py2\\lib\\site-packages\\sklearn\\metrics\\scorer.py:100: DeprecationWarning: Scoring method mean_squared_error was renamed to neg_mean_squared_error in version 0.18 and will be removed in 0.20.\n",
      "  sample_weight=sample_weight)\n",
      "C:\\Users\\blanc\\Anaconda3\\envs\\ipykernel_py2\\lib\\site-packages\\sklearn\\metrics\\scorer.py:100: DeprecationWarning: Scoring method mean_squared_error was renamed to neg_mean_squared_error in version 0.18 and will be removed in 0.20.\n",
      "  sample_weight=sample_weight)\n",
      "C:\\Users\\blanc\\Anaconda3\\envs\\ipykernel_py2\\lib\\site-packages\\sklearn\\metrics\\scorer.py:100: DeprecationWarning: Scoring method mean_squared_error was renamed to neg_mean_squared_error in version 0.18 and will be removed in 0.20.\n",
      "  sample_weight=sample_weight)\n",
      "C:\\Users\\blanc\\Anaconda3\\envs\\ipykernel_py2\\lib\\site-packages\\sklearn\\metrics\\scorer.py:100: DeprecationWarning: Scoring method mean_squared_error was renamed to neg_mean_squared_error in version 0.18 and will be removed in 0.20.\n",
      "  sample_weight=sample_weight)\n",
      "C:\\Users\\blanc\\Anaconda3\\envs\\ipykernel_py2\\lib\\site-packages\\sklearn\\metrics\\scorer.py:100: DeprecationWarning: Scoring method mean_squared_error was renamed to neg_mean_squared_error in version 0.18 and will be removed in 0.20.\n",
      "  sample_weight=sample_weight)\n",
      "C:\\Users\\blanc\\Anaconda3\\envs\\ipykernel_py2\\lib\\site-packages\\sklearn\\metrics\\scorer.py:100: DeprecationWarning: Scoring method mean_squared_error was renamed to neg_mean_squared_error in version 0.18 and will be removed in 0.20.\n",
      "  sample_weight=sample_weight)\n",
      "C:\\Users\\blanc\\Anaconda3\\envs\\ipykernel_py2\\lib\\site-packages\\sklearn\\metrics\\scorer.py:100: DeprecationWarning: Scoring method mean_squared_error was renamed to neg_mean_squared_error in version 0.18 and will be removed in 0.20.\n",
      "  sample_weight=sample_weight)\n",
      "C:\\Users\\blanc\\Anaconda3\\envs\\ipykernel_py2\\lib\\site-packages\\sklearn\\metrics\\scorer.py:100: DeprecationWarning: Scoring method mean_squared_error was renamed to neg_mean_squared_error in version 0.18 and will be removed in 0.20.\n",
      "  sample_weight=sample_weight)\n",
      "C:\\Users\\blanc\\Anaconda3\\envs\\ipykernel_py2\\lib\\site-packages\\sklearn\\metrics\\scorer.py:100: DeprecationWarning: Scoring method mean_squared_error was renamed to neg_mean_squared_error in version 0.18 and will be removed in 0.20.\n",
      "  sample_weight=sample_weight)\n",
      "C:\\Users\\blanc\\Anaconda3\\envs\\ipykernel_py2\\lib\\site-packages\\sklearn\\metrics\\scorer.py:100: DeprecationWarning: Scoring method mean_squared_error was renamed to neg_mean_squared_error in version 0.18 and will be removed in 0.20.\n",
      "  sample_weight=sample_weight)\n",
      "C:\\Users\\blanc\\Anaconda3\\envs\\ipykernel_py2\\lib\\site-packages\\sklearn\\metrics\\scorer.py:100: DeprecationWarning: Scoring method mean_squared_error was renamed to neg_mean_squared_error in version 0.18 and will be removed in 0.20.\n",
      "  sample_weight=sample_weight)\n",
      "C:\\Users\\blanc\\Anaconda3\\envs\\ipykernel_py2\\lib\\site-packages\\sklearn\\metrics\\scorer.py:100: DeprecationWarning: Scoring method mean_squared_error was renamed to neg_mean_squared_error in version 0.18 and will be removed in 0.20.\n",
      "  sample_weight=sample_weight)\n",
      "C:\\Users\\blanc\\Anaconda3\\envs\\ipykernel_py2\\lib\\site-packages\\sklearn\\metrics\\scorer.py:100: DeprecationWarning: Scoring method mean_squared_error was renamed to neg_mean_squared_error in version 0.18 and will be removed in 0.20.\n",
      "  sample_weight=sample_weight)\n",
      "C:\\Users\\blanc\\Anaconda3\\envs\\ipykernel_py2\\lib\\site-packages\\sklearn\\metrics\\scorer.py:100: DeprecationWarning: Scoring method mean_squared_error was renamed to neg_mean_squared_error in version 0.18 and will be removed in 0.20.\n",
      "  sample_weight=sample_weight)\n",
      "C:\\Users\\blanc\\Anaconda3\\envs\\ipykernel_py2\\lib\\site-packages\\sklearn\\metrics\\scorer.py:100: DeprecationWarning: Scoring method mean_squared_error was renamed to neg_mean_squared_error in version 0.18 and will be removed in 0.20.\n",
      "  sample_weight=sample_weight)\n",
      "C:\\Users\\blanc\\Anaconda3\\envs\\ipykernel_py2\\lib\\site-packages\\sklearn\\metrics\\scorer.py:100: DeprecationWarning: Scoring method mean_squared_error was renamed to neg_mean_squared_error in version 0.18 and will be removed in 0.20.\n",
      "  sample_weight=sample_weight)\n",
      "C:\\Users\\blanc\\Anaconda3\\envs\\ipykernel_py2\\lib\\site-packages\\sklearn\\metrics\\scorer.py:100: DeprecationWarning: Scoring method mean_squared_error was renamed to neg_mean_squared_error in version 0.18 and will be removed in 0.20.\n",
      "  sample_weight=sample_weight)\n",
      "C:\\Users\\blanc\\Anaconda3\\envs\\ipykernel_py2\\lib\\site-packages\\sklearn\\metrics\\scorer.py:100: DeprecationWarning: Scoring method mean_squared_error was renamed to neg_mean_squared_error in version 0.18 and will be removed in 0.20.\n",
      "  sample_weight=sample_weight)\n",
      "C:\\Users\\blanc\\Anaconda3\\envs\\ipykernel_py2\\lib\\site-packages\\sklearn\\metrics\\scorer.py:100: DeprecationWarning: Scoring method mean_squared_error was renamed to neg_mean_squared_error in version 0.18 and will be removed in 0.20.\n",
      "  sample_weight=sample_weight)\n",
      "C:\\Users\\blanc\\Anaconda3\\envs\\ipykernel_py2\\lib\\site-packages\\sklearn\\metrics\\scorer.py:100: DeprecationWarning: Scoring method mean_squared_error was renamed to neg_mean_squared_error in version 0.18 and will be removed in 0.20.\n",
      "  sample_weight=sample_weight)\n",
      "C:\\Users\\blanc\\Anaconda3\\envs\\ipykernel_py2\\lib\\site-packages\\sklearn\\metrics\\scorer.py:100: DeprecationWarning: Scoring method mean_squared_error was renamed to neg_mean_squared_error in version 0.18 and will be removed in 0.20.\n",
      "  sample_weight=sample_weight)\n",
      "C:\\Users\\blanc\\Anaconda3\\envs\\ipykernel_py2\\lib\\site-packages\\sklearn\\metrics\\scorer.py:100: DeprecationWarning: Scoring method mean_squared_error was renamed to neg_mean_squared_error in version 0.18 and will be removed in 0.20.\n",
      "  sample_weight=sample_weight)\n",
      "C:\\Users\\blanc\\Anaconda3\\envs\\ipykernel_py2\\lib\\site-packages\\sklearn\\metrics\\scorer.py:100: DeprecationWarning: Scoring method mean_squared_error was renamed to neg_mean_squared_error in version 0.18 and will be removed in 0.20.\n",
      "  sample_weight=sample_weight)\n",
      "C:\\Users\\blanc\\Anaconda3\\envs\\ipykernel_py2\\lib\\site-packages\\sklearn\\metrics\\scorer.py:100: DeprecationWarning: Scoring method mean_squared_error was renamed to neg_mean_squared_error in version 0.18 and will be removed in 0.20.\n",
      "  sample_weight=sample_weight)\n",
      "C:\\Users\\blanc\\Anaconda3\\envs\\ipykernel_py2\\lib\\site-packages\\sklearn\\metrics\\scorer.py:100: DeprecationWarning: Scoring method mean_squared_error was renamed to neg_mean_squared_error in version 0.18 and will be removed in 0.20.\n",
      "  sample_weight=sample_weight)\n",
      "C:\\Users\\blanc\\Anaconda3\\envs\\ipykernel_py2\\lib\\site-packages\\sklearn\\metrics\\scorer.py:100: DeprecationWarning: Scoring method mean_squared_error was renamed to neg_mean_squared_error in version 0.18 and will be removed in 0.20.\n",
      "  sample_weight=sample_weight)\n",
      "C:\\Users\\blanc\\Anaconda3\\envs\\ipykernel_py2\\lib\\site-packages\\sklearn\\metrics\\scorer.py:100: DeprecationWarning: Scoring method mean_squared_error was renamed to neg_mean_squared_error in version 0.18 and will be removed in 0.20.\n",
      "  sample_weight=sample_weight)\n",
      "C:\\Users\\blanc\\Anaconda3\\envs\\ipykernel_py2\\lib\\site-packages\\sklearn\\metrics\\scorer.py:100: DeprecationWarning: Scoring method mean_squared_error was renamed to neg_mean_squared_error in version 0.18 and will be removed in 0.20.\n",
      "  sample_weight=sample_weight)\n",
      "C:\\Users\\blanc\\Anaconda3\\envs\\ipykernel_py2\\lib\\site-packages\\sklearn\\metrics\\scorer.py:100: DeprecationWarning: Scoring method mean_squared_error was renamed to neg_mean_squared_error in version 0.18 and will be removed in 0.20.\n",
      "  sample_weight=sample_weight)\n",
      "C:\\Users\\blanc\\Anaconda3\\envs\\ipykernel_py2\\lib\\site-packages\\sklearn\\metrics\\scorer.py:100: DeprecationWarning: Scoring method mean_squared_error was renamed to neg_mean_squared_error in version 0.18 and will be removed in 0.20.\n",
      "  sample_weight=sample_weight)\n",
      "C:\\Users\\blanc\\Anaconda3\\envs\\ipykernel_py2\\lib\\site-packages\\sklearn\\metrics\\scorer.py:100: DeprecationWarning: Scoring method mean_squared_error was renamed to neg_mean_squared_error in version 0.18 and will be removed in 0.20.\n",
      "  sample_weight=sample_weight)\n",
      "C:\\Users\\blanc\\Anaconda3\\envs\\ipykernel_py2\\lib\\site-packages\\sklearn\\metrics\\scorer.py:100: DeprecationWarning: Scoring method mean_squared_error was renamed to neg_mean_squared_error in version 0.18 and will be removed in 0.20.\n",
      "  sample_weight=sample_weight)\n",
      "C:\\Users\\blanc\\Anaconda3\\envs\\ipykernel_py2\\lib\\site-packages\\sklearn\\metrics\\scorer.py:100: DeprecationWarning: Scoring method mean_squared_error was renamed to neg_mean_squared_error in version 0.18 and will be removed in 0.20.\n",
      "  sample_weight=sample_weight)\n",
      "C:\\Users\\blanc\\Anaconda3\\envs\\ipykernel_py2\\lib\\site-packages\\sklearn\\metrics\\scorer.py:100: DeprecationWarning: Scoring method mean_squared_error was renamed to neg_mean_squared_error in version 0.18 and will be removed in 0.20.\n",
      "  sample_weight=sample_weight)\n",
      "C:\\Users\\blanc\\Anaconda3\\envs\\ipykernel_py2\\lib\\site-packages\\sklearn\\metrics\\scorer.py:100: DeprecationWarning: Scoring method mean_squared_error was renamed to neg_mean_squared_error in version 0.18 and will be removed in 0.20.\n",
      "  sample_weight=sample_weight)\n",
      "C:\\Users\\blanc\\Anaconda3\\envs\\ipykernel_py2\\lib\\site-packages\\sklearn\\metrics\\scorer.py:100: DeprecationWarning: Scoring method mean_squared_error was renamed to neg_mean_squared_error in version 0.18 and will be removed in 0.20.\n",
      "  sample_weight=sample_weight)\n",
      "C:\\Users\\blanc\\Anaconda3\\envs\\ipykernel_py2\\lib\\site-packages\\sklearn\\metrics\\scorer.py:100: DeprecationWarning: Scoring method mean_squared_error was renamed to neg_mean_squared_error in version 0.18 and will be removed in 0.20.\n",
      "  sample_weight=sample_weight)\n",
      "C:\\Users\\blanc\\Anaconda3\\envs\\ipykernel_py2\\lib\\site-packages\\sklearn\\metrics\\scorer.py:100: DeprecationWarning: Scoring method mean_squared_error was renamed to neg_mean_squared_error in version 0.18 and will be removed in 0.20.\n",
      "  sample_weight=sample_weight)\n",
      "C:\\Users\\blanc\\Anaconda3\\envs\\ipykernel_py2\\lib\\site-packages\\sklearn\\metrics\\scorer.py:100: DeprecationWarning: Scoring method mean_squared_error was renamed to neg_mean_squared_error in version 0.18 and will be removed in 0.20.\n",
      "  sample_weight=sample_weight)\n",
      "C:\\Users\\blanc\\Anaconda3\\envs\\ipykernel_py2\\lib\\site-packages\\sklearn\\metrics\\scorer.py:100: DeprecationWarning: Scoring method mean_squared_error was renamed to neg_mean_squared_error in version 0.18 and will be removed in 0.20.\n",
      "  sample_weight=sample_weight)\n",
      "C:\\Users\\blanc\\Anaconda3\\envs\\ipykernel_py2\\lib\\site-packages\\sklearn\\metrics\\scorer.py:100: DeprecationWarning: Scoring method mean_squared_error was renamed to neg_mean_squared_error in version 0.18 and will be removed in 0.20.\n",
      "  sample_weight=sample_weight)\n",
      "C:\\Users\\blanc\\Anaconda3\\envs\\ipykernel_py2\\lib\\site-packages\\sklearn\\metrics\\scorer.py:100: DeprecationWarning: Scoring method mean_squared_error was renamed to neg_mean_squared_error in version 0.18 and will be removed in 0.20.\n",
      "  sample_weight=sample_weight)\n",
      "C:\\Users\\blanc\\Anaconda3\\envs\\ipykernel_py2\\lib\\site-packages\\sklearn\\metrics\\scorer.py:100: DeprecationWarning: Scoring method mean_squared_error was renamed to neg_mean_squared_error in version 0.18 and will be removed in 0.20.\n",
      "  sample_weight=sample_weight)\n",
      "C:\\Users\\blanc\\Anaconda3\\envs\\ipykernel_py2\\lib\\site-packages\\sklearn\\metrics\\scorer.py:100: DeprecationWarning: Scoring method mean_squared_error was renamed to neg_mean_squared_error in version 0.18 and will be removed in 0.20.\n",
      "  sample_weight=sample_weight)\n",
      "C:\\Users\\blanc\\Anaconda3\\envs\\ipykernel_py2\\lib\\site-packages\\sklearn\\metrics\\scorer.py:100: DeprecationWarning: Scoring method mean_squared_error was renamed to neg_mean_squared_error in version 0.18 and will be removed in 0.20.\n",
      "  sample_weight=sample_weight)\n",
      "C:\\Users\\blanc\\Anaconda3\\envs\\ipykernel_py2\\lib\\site-packages\\sklearn\\metrics\\scorer.py:100: DeprecationWarning: Scoring method mean_squared_error was renamed to neg_mean_squared_error in version 0.18 and will be removed in 0.20.\n",
      "  sample_weight=sample_weight)\n",
      "C:\\Users\\blanc\\Anaconda3\\envs\\ipykernel_py2\\lib\\site-packages\\sklearn\\metrics\\scorer.py:100: DeprecationWarning: Scoring method mean_squared_error was renamed to neg_mean_squared_error in version 0.18 and will be removed in 0.20.\n",
      "  sample_weight=sample_weight)\n",
      "C:\\Users\\blanc\\Anaconda3\\envs\\ipykernel_py2\\lib\\site-packages\\sklearn\\metrics\\scorer.py:100: DeprecationWarning: Scoring method mean_squared_error was renamed to neg_mean_squared_error in version 0.18 and will be removed in 0.20.\n",
      "  sample_weight=sample_weight)\n",
      "C:\\Users\\blanc\\Anaconda3\\envs\\ipykernel_py2\\lib\\site-packages\\sklearn\\metrics\\scorer.py:100: DeprecationWarning: Scoring method mean_squared_error was renamed to neg_mean_squared_error in version 0.18 and will be removed in 0.20.\n",
      "  sample_weight=sample_weight)\n",
      "C:\\Users\\blanc\\Anaconda3\\envs\\ipykernel_py2\\lib\\site-packages\\sklearn\\metrics\\scorer.py:100: DeprecationWarning: Scoring method mean_squared_error was renamed to neg_mean_squared_error in version 0.18 and will be removed in 0.20.\n",
      "  sample_weight=sample_weight)\n",
      "C:\\Users\\blanc\\Anaconda3\\envs\\ipykernel_py2\\lib\\site-packages\\sklearn\\metrics\\scorer.py:100: DeprecationWarning: Scoring method mean_squared_error was renamed to neg_mean_squared_error in version 0.18 and will be removed in 0.20.\n",
      "  sample_weight=sample_weight)\n",
      "C:\\Users\\blanc\\Anaconda3\\envs\\ipykernel_py2\\lib\\site-packages\\sklearn\\metrics\\scorer.py:100: DeprecationWarning: Scoring method mean_squared_error was renamed to neg_mean_squared_error in version 0.18 and will be removed in 0.20.\n",
      "  sample_weight=sample_weight)\n",
      "C:\\Users\\blanc\\Anaconda3\\envs\\ipykernel_py2\\lib\\site-packages\\sklearn\\metrics\\scorer.py:100: DeprecationWarning: Scoring method mean_squared_error was renamed to neg_mean_squared_error in version 0.18 and will be removed in 0.20.\n",
      "  sample_weight=sample_weight)\n",
      "C:\\Users\\blanc\\Anaconda3\\envs\\ipykernel_py2\\lib\\site-packages\\sklearn\\metrics\\scorer.py:100: DeprecationWarning: Scoring method mean_squared_error was renamed to neg_mean_squared_error in version 0.18 and will be removed in 0.20.\n",
      "  sample_weight=sample_weight)\n",
      "C:\\Users\\blanc\\Anaconda3\\envs\\ipykernel_py2\\lib\\site-packages\\sklearn\\metrics\\scorer.py:100: DeprecationWarning: Scoring method mean_squared_error was renamed to neg_mean_squared_error in version 0.18 and will be removed in 0.20.\n",
      "  sample_weight=sample_weight)\n",
      "C:\\Users\\blanc\\Anaconda3\\envs\\ipykernel_py2\\lib\\site-packages\\sklearn\\metrics\\scorer.py:100: DeprecationWarning: Scoring method mean_squared_error was renamed to neg_mean_squared_error in version 0.18 and will be removed in 0.20.\n",
      "  sample_weight=sample_weight)\n",
      "C:\\Users\\blanc\\Anaconda3\\envs\\ipykernel_py2\\lib\\site-packages\\sklearn\\metrics\\scorer.py:100: DeprecationWarning: Scoring method mean_squared_error was renamed to neg_mean_squared_error in version 0.18 and will be removed in 0.20.\n",
      "  sample_weight=sample_weight)\n",
      "C:\\Users\\blanc\\Anaconda3\\envs\\ipykernel_py2\\lib\\site-packages\\sklearn\\metrics\\scorer.py:100: DeprecationWarning: Scoring method mean_squared_error was renamed to neg_mean_squared_error in version 0.18 and will be removed in 0.20.\n",
      "  sample_weight=sample_weight)\n",
      "C:\\Users\\blanc\\Anaconda3\\envs\\ipykernel_py2\\lib\\site-packages\\sklearn\\metrics\\scorer.py:100: DeprecationWarning: Scoring method mean_squared_error was renamed to neg_mean_squared_error in version 0.18 and will be removed in 0.20.\n",
      "  sample_weight=sample_weight)\n",
      "C:\\Users\\blanc\\Anaconda3\\envs\\ipykernel_py2\\lib\\site-packages\\sklearn\\metrics\\scorer.py:100: DeprecationWarning: Scoring method mean_squared_error was renamed to neg_mean_squared_error in version 0.18 and will be removed in 0.20.\n",
      "  sample_weight=sample_weight)\n",
      "C:\\Users\\blanc\\Anaconda3\\envs\\ipykernel_py2\\lib\\site-packages\\sklearn\\metrics\\scorer.py:100: DeprecationWarning: Scoring method mean_squared_error was renamed to neg_mean_squared_error in version 0.18 and will be removed in 0.20.\n",
      "  sample_weight=sample_weight)\n",
      "C:\\Users\\blanc\\Anaconda3\\envs\\ipykernel_py2\\lib\\site-packages\\sklearn\\metrics\\scorer.py:100: DeprecationWarning: Scoring method mean_squared_error was renamed to neg_mean_squared_error in version 0.18 and will be removed in 0.20.\n",
      "  sample_weight=sample_weight)\n",
      "C:\\Users\\blanc\\Anaconda3\\envs\\ipykernel_py2\\lib\\site-packages\\sklearn\\metrics\\scorer.py:100: DeprecationWarning: Scoring method mean_squared_error was renamed to neg_mean_squared_error in version 0.18 and will be removed in 0.20.\n",
      "  sample_weight=sample_weight)\n",
      "C:\\Users\\blanc\\Anaconda3\\envs\\ipykernel_py2\\lib\\site-packages\\sklearn\\metrics\\scorer.py:100: DeprecationWarning: Scoring method mean_squared_error was renamed to neg_mean_squared_error in version 0.18 and will be removed in 0.20.\n",
      "  sample_weight=sample_weight)\n",
      "C:\\Users\\blanc\\Anaconda3\\envs\\ipykernel_py2\\lib\\site-packages\\sklearn\\metrics\\scorer.py:100: DeprecationWarning: Scoring method mean_squared_error was renamed to neg_mean_squared_error in version 0.18 and will be removed in 0.20.\n",
      "  sample_weight=sample_weight)\n",
      "C:\\Users\\blanc\\Anaconda3\\envs\\ipykernel_py2\\lib\\site-packages\\sklearn\\metrics\\scorer.py:100: DeprecationWarning: Scoring method mean_squared_error was renamed to neg_mean_squared_error in version 0.18 and will be removed in 0.20.\n",
      "  sample_weight=sample_weight)\n",
      "C:\\Users\\blanc\\Anaconda3\\envs\\ipykernel_py2\\lib\\site-packages\\sklearn\\metrics\\scorer.py:100: DeprecationWarning: Scoring method mean_squared_error was renamed to neg_mean_squared_error in version 0.18 and will be removed in 0.20.\n",
      "  sample_weight=sample_weight)\n",
      "C:\\Users\\blanc\\Anaconda3\\envs\\ipykernel_py2\\lib\\site-packages\\sklearn\\metrics\\scorer.py:100: DeprecationWarning: Scoring method mean_squared_error was renamed to neg_mean_squared_error in version 0.18 and will be removed in 0.20.\n",
      "  sample_weight=sample_weight)\n",
      "C:\\Users\\blanc\\Anaconda3\\envs\\ipykernel_py2\\lib\\site-packages\\sklearn\\metrics\\scorer.py:100: DeprecationWarning: Scoring method mean_squared_error was renamed to neg_mean_squared_error in version 0.18 and will be removed in 0.20.\n",
      "  sample_weight=sample_weight)\n",
      "C:\\Users\\blanc\\Anaconda3\\envs\\ipykernel_py2\\lib\\site-packages\\sklearn\\metrics\\scorer.py:100: DeprecationWarning: Scoring method mean_squared_error was renamed to neg_mean_squared_error in version 0.18 and will be removed in 0.20.\n",
      "  sample_weight=sample_weight)\n"
     ]
    }
   ],
   "source": [
    "from sklearn.linear_model import LinearRegression\n",
    "from sklearn.metrics import mean_squared_error, r2_score\n",
    "from sklearn.cross_validation import cross_val_score\n",
    "\n",
    "train_mse_arr = np.array([])\n",
    "test_mse_arr = np.array([])\n",
    "\n",
    "for i in pca_range: #对于每个PCA数目对regression结果的影响\n",
    "\n",
    "    train_subset = train_components[:, :i]\n",
    "\n",
    "    pca_linear = LinearRegression()\n",
    "\n",
    "    pca_linear.fit(train_subset, y_train)\n",
    "\n",
    "    # Get train error\n",
    "    train_mse = cross_val_score(pca_linear, train_subset, y=y_train,\n",
    "                                scoring='mean_squared_error', cv=10) * -1 ##因为他的结果都是一个负的，所以要 times -1\n",
    "    train_mse_arr = np.append(train_mse_arr, train_mse.mean())\n",
    "    \n",
    "    # Get test error\n",
    "    test_set = test_components[:, :i]\n",
    "    test_mse = mean_squared_error(pca_linear.predict(test_set), y_test)\n",
    "    test_mse_arr = np.append(test_mse_arr, test_mse)"
   ]
  },
  {
   "cell_type": "markdown",
   "metadata": {},
   "source": [
    "### Plot train mse"
   ]
  },
  {
   "cell_type": "code",
   "execution_count": 25,
   "metadata": {},
   "outputs": [
    {
     "name": "stdout",
     "output_type": "stream",
     "text": [
      "# of PCs that gives lowest train MSE: 7 @ 107809.53579112724\n"
     ]
    },
    {
     "data": {
      "image/png": "[encoded data removed]",
      "text/plain": [
       "<Figure size 432x288 with 1 Axes>"
      ]
     },
     "metadata": {},
     "output_type": "display_data"
    }
   ],
   "source": [
    "plt.plot(pca_range, train_mse_arr, marker='o', color='b', alpha=.5, label='train mse')\n",
    "plt.ylabel('MSE', fontsize=14)\n",
    "plt.xlabel('Principal Components Included in Model', fontsize=14)\n",
    "plt.legend(loc='best')\n",
    "\n",
    "best_train_mse_pca, min_train_mse = np.argmin(train_mse_arr) + 1, np.min(train_mse_arr)\n",
    "\n",
    "plt.axvline(best_train_mse_pca, color='b', ls='--', alpha=.3)\n",
    "\n",
    "print '# of PCs that gives lowest train MSE:', best_train_mse_pca, '@', min_train_mse"
   ]
  },
  {
   "cell_type": "markdown",
   "metadata": {},
   "source": [
    "### Plot test mse"
   ]
  },
  {
   "cell_type": "code",
   "execution_count": 26,
   "metadata": {
    "scrolled": false
   },
   "outputs": [
    {
     "name": "stdout",
     "output_type": "stream",
     "text": [
      "# of PCs that gives lowest test MSE: 17 @ 125574.0101308444\n"
     ]
    },
    {
     "data": {
      "image/png": "[encoded data removed]",
      "text/plain": [
       "<Figure size 432x288 with 1 Axes>"
      ]
     },
     "metadata": {},
     "output_type": "display_data"
    }
   ],
   "source": [
    "plt.plot(pca_range, test_mse_arr, marker='o', color='b', alpha=.5, label='test mse')\n",
    "plt.ylabel('MSE', fontsize=14)\n",
    "plt.xlabel('Principal Components Included in Model', fontsize=14)\n",
    "plt.legend(loc='best')\n",
    "\n",
    "best_test_mse_pca, min_test_mse = np.argmin(test_mse_arr) + 1, np.min(test_mse_arr)\n",
    "\n",
    "plt.axvline(best_test_mse_pca, color='b', ls='--', alpha=.3)\n",
    "\n",
    "print '# of PCs that gives lowest test MSE:', best_test_mse_pca, '@', min_test_mse\n",
    "\n",
    "##通过结果发现train score结果不可预测，但是test的话还是pca 维度越多越好"
   ]
  },
  {
   "cell_type": "markdown",
   "metadata": {},
   "source": [
    "### Plot train and test mse"
   ]
  },
  {
   "cell_type": "code",
   "execution_count": 27,
   "metadata": {},
   "outputs": [
    {
     "data": {
      "text/plain": [
       "<matplotlib.legend.Legend at 0x15e29e48>"
      ]
     },
     "execution_count": 27,
     "metadata": {},
     "output_type": "execute_result"
    },
    {
     "data": {
      "image/png": "[encoded data removed]",
      "text/plain": [
       "<Figure size 432x288 with 1 Axes>"
      ]
     },
     "metadata": {},
     "output_type": "display_data"
    }
   ],
   "source": [
    "plt.plot(pca_range, train_mse_arr, marker='o', color='b', alpha=.5, label='train mse')\n",
    "plt.plot(pca_range, test_mse_arr, marker='o', color='r', alpha=.5, label='test mse')\n",
    "plt.ylabel('MSE', fontsize=14)\n",
    "plt.xlabel('Principal Components Included in Model', fontsize=14)\n",
    "plt.legend(loc='best')"
   ]
  },
  {
   "cell_type": "code",
   "execution_count": null,
   "metadata": {
    "collapsed": true
   },
   "outputs": [],
   "source": []
  }
 ],
 "metadata": {
  "anaconda-cloud": {},
  "kernelspec": {
   "display_name": "Python 2",
   "language": "python",
   "name": "python2"
  },
  "language_info": {
   "codemirror_mode": {
    "name": "ipython",
    "version": 2
   },
   "file_extension": ".py",
   "mimetype": "text/x-python",
   "name": "python",
   "nbconvert_exporter": "python",
   "pygments_lexer": "ipython2",
   "version": "2.7.14"
  }
 },
 "nbformat": 4,
 "nbformat_minor": 1
}
